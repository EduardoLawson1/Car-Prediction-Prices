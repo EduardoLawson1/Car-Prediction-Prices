{
 "cells": [
  {
   "cell_type": "markdown",
   "id": "2e7ff610",
   "metadata": {
    "papermill": {
     "duration": 0.014354,
     "end_time": "2024-08-12T18:46:09.950207",
     "exception": false,
     "start_time": "2024-08-12T18:46:09.935853",
     "status": "completed"
    },
    "tags": []
   },
   "source": [
    "## Read the .csv and see data"
   ]
  },
  {
   "cell_type": "markdown",
   "id": "19f38518",
   "metadata": {
    "papermill": {
     "duration": 0.013742,
     "end_time": "2024-08-12T18:46:09.978020",
     "exception": false,
     "start_time": "2024-08-12T18:46:09.964278",
     "status": "completed"
    },
    "tags": []
   },
   "source": [
    "### 00. Import libraries"
   ]
  },
  {
   "cell_type": "code",
   "execution_count": 1,
   "id": "3477f27e",
   "metadata": {
    "_cell_guid": "b1076dfc-b9ad-4769-8c92-a6c4dae69d19",
    "_uuid": "8f2839f25d086af736a60e9eeb907d3b93b6e0e5",
    "execution": {
     "iopub.execute_input": "2024-08-12T18:46:10.011102Z",
     "iopub.status.busy": "2024-08-12T18:46:10.010601Z",
     "iopub.status.idle": "2024-08-12T18:46:13.947503Z",
     "shell.execute_reply": "2024-08-12T18:46:13.946123Z"
    },
    "papermill": {
     "duration": 3.957125,
     "end_time": "2024-08-12T18:46:13.950456",
     "exception": false,
     "start_time": "2024-08-12T18:46:09.993331",
     "status": "completed"
    },
    "tags": []
   },
   "outputs": [],
   "source": [
    "# This Python 3 environment comes with many helpful analytics libraries installed\n",
    "# It is defined by the kaggle/python Docker image: https://github.com/kaggle/docker-python\n",
    "# For example, here's several helpful packages to load\n",
    "\n",
    "import numpy as np # linear algebra\n",
    "import pandas as pd # data processing, CSV file I/O (e.g. pd.read_csv)\n",
    "from sklearn.preprocessing import LabelEncoder\n",
    "from sklearn.model_selection import train_test_split\n",
    "from sklearn.tree import DecisionTreeRegressor\n",
    "from sklearn.metrics import mean_absolute_error, r2_score\n",
    "import plotly.express as px\n",
    "from sklearn.ensemble import RandomForestRegressor\n",
    "from xgboost import XGBRegressor\n",
    "from sklearn.linear_model import LinearRegression"
   ]
  },
  {
   "cell_type": "markdown",
   "id": "c1e9416b",
   "metadata": {
    "papermill": {
     "duration": 0.01355,
     "end_time": "2024-08-12T18:46:13.977429",
     "exception": false,
     "start_time": "2024-08-12T18:46:13.963879",
     "status": "completed"
    },
    "tags": []
   },
   "source": [
    "### 01. See the data we are working with"
   ]
  },
  {
   "cell_type": "code",
   "execution_count": 2,
   "id": "5a2b1505",
   "metadata": {
    "execution": {
     "iopub.execute_input": "2024-08-12T18:46:14.012051Z",
     "iopub.status.busy": "2024-08-12T18:46:14.010387Z",
     "iopub.status.idle": "2024-08-12T18:46:14.083673Z",
     "shell.execute_reply": "2024-08-12T18:46:14.082359Z"
    },
    "papermill": {
     "duration": 0.094686,
     "end_time": "2024-08-12T18:46:14.086656",
     "exception": false,
     "start_time": "2024-08-12T18:46:13.991970",
     "status": "completed"
    },
    "tags": []
   },
   "outputs": [
    {
     "data": {
      "text/html": [
       "<div>\n",
       "<style scoped>\n",
       "    .dataframe tbody tr th:only-of-type {\n",
       "        vertical-align: middle;\n",
       "    }\n",
       "\n",
       "    .dataframe tbody tr th {\n",
       "        vertical-align: top;\n",
       "    }\n",
       "\n",
       "    .dataframe thead th {\n",
       "        text-align: right;\n",
       "    }\n",
       "</style>\n",
       "<table border=\"1\" class=\"dataframe\">\n",
       "  <thead>\n",
       "    <tr style=\"text-align: right;\">\n",
       "      <th></th>\n",
       "      <th>car_ID</th>\n",
       "      <th>symboling</th>\n",
       "      <th>CarName</th>\n",
       "      <th>fueltype</th>\n",
       "      <th>aspiration</th>\n",
       "      <th>doornumber</th>\n",
       "      <th>carbody</th>\n",
       "      <th>drivewheel</th>\n",
       "      <th>enginelocation</th>\n",
       "      <th>wheelbase</th>\n",
       "      <th>...</th>\n",
       "      <th>enginesize</th>\n",
       "      <th>fuelsystem</th>\n",
       "      <th>boreratio</th>\n",
       "      <th>stroke</th>\n",
       "      <th>compressionratio</th>\n",
       "      <th>horsepower</th>\n",
       "      <th>peakrpm</th>\n",
       "      <th>citympg</th>\n",
       "      <th>highwaympg</th>\n",
       "      <th>price</th>\n",
       "    </tr>\n",
       "  </thead>\n",
       "  <tbody>\n",
       "    <tr>\n",
       "      <th>0</th>\n",
       "      <td>1</td>\n",
       "      <td>3</td>\n",
       "      <td>alfa-romero giulia</td>\n",
       "      <td>gas</td>\n",
       "      <td>std</td>\n",
       "      <td>two</td>\n",
       "      <td>convertible</td>\n",
       "      <td>rwd</td>\n",
       "      <td>front</td>\n",
       "      <td>88.6</td>\n",
       "      <td>...</td>\n",
       "      <td>130</td>\n",
       "      <td>mpfi</td>\n",
       "      <td>3.47</td>\n",
       "      <td>2.68</td>\n",
       "      <td>9.0</td>\n",
       "      <td>111</td>\n",
       "      <td>5000</td>\n",
       "      <td>21</td>\n",
       "      <td>27</td>\n",
       "      <td>13495.0</td>\n",
       "    </tr>\n",
       "    <tr>\n",
       "      <th>1</th>\n",
       "      <td>2</td>\n",
       "      <td>3</td>\n",
       "      <td>alfa-romero stelvio</td>\n",
       "      <td>gas</td>\n",
       "      <td>std</td>\n",
       "      <td>two</td>\n",
       "      <td>convertible</td>\n",
       "      <td>rwd</td>\n",
       "      <td>front</td>\n",
       "      <td>88.6</td>\n",
       "      <td>...</td>\n",
       "      <td>130</td>\n",
       "      <td>mpfi</td>\n",
       "      <td>3.47</td>\n",
       "      <td>2.68</td>\n",
       "      <td>9.0</td>\n",
       "      <td>111</td>\n",
       "      <td>5000</td>\n",
       "      <td>21</td>\n",
       "      <td>27</td>\n",
       "      <td>16500.0</td>\n",
       "    </tr>\n",
       "    <tr>\n",
       "      <th>2</th>\n",
       "      <td>3</td>\n",
       "      <td>1</td>\n",
       "      <td>alfa-romero Quadrifoglio</td>\n",
       "      <td>gas</td>\n",
       "      <td>std</td>\n",
       "      <td>two</td>\n",
       "      <td>hatchback</td>\n",
       "      <td>rwd</td>\n",
       "      <td>front</td>\n",
       "      <td>94.5</td>\n",
       "      <td>...</td>\n",
       "      <td>152</td>\n",
       "      <td>mpfi</td>\n",
       "      <td>2.68</td>\n",
       "      <td>3.47</td>\n",
       "      <td>9.0</td>\n",
       "      <td>154</td>\n",
       "      <td>5000</td>\n",
       "      <td>19</td>\n",
       "      <td>26</td>\n",
       "      <td>16500.0</td>\n",
       "    </tr>\n",
       "    <tr>\n",
       "      <th>3</th>\n",
       "      <td>4</td>\n",
       "      <td>2</td>\n",
       "      <td>audi 100 ls</td>\n",
       "      <td>gas</td>\n",
       "      <td>std</td>\n",
       "      <td>four</td>\n",
       "      <td>sedan</td>\n",
       "      <td>fwd</td>\n",
       "      <td>front</td>\n",
       "      <td>99.8</td>\n",
       "      <td>...</td>\n",
       "      <td>109</td>\n",
       "      <td>mpfi</td>\n",
       "      <td>3.19</td>\n",
       "      <td>3.40</td>\n",
       "      <td>10.0</td>\n",
       "      <td>102</td>\n",
       "      <td>5500</td>\n",
       "      <td>24</td>\n",
       "      <td>30</td>\n",
       "      <td>13950.0</td>\n",
       "    </tr>\n",
       "    <tr>\n",
       "      <th>4</th>\n",
       "      <td>5</td>\n",
       "      <td>2</td>\n",
       "      <td>audi 100ls</td>\n",
       "      <td>gas</td>\n",
       "      <td>std</td>\n",
       "      <td>four</td>\n",
       "      <td>sedan</td>\n",
       "      <td>4wd</td>\n",
       "      <td>front</td>\n",
       "      <td>99.4</td>\n",
       "      <td>...</td>\n",
       "      <td>136</td>\n",
       "      <td>mpfi</td>\n",
       "      <td>3.19</td>\n",
       "      <td>3.40</td>\n",
       "      <td>8.0</td>\n",
       "      <td>115</td>\n",
       "      <td>5500</td>\n",
       "      <td>18</td>\n",
       "      <td>22</td>\n",
       "      <td>17450.0</td>\n",
       "    </tr>\n",
       "  </tbody>\n",
       "</table>\n",
       "<p>5 rows × 26 columns</p>\n",
       "</div>"
      ],
      "text/plain": [
       "   car_ID  symboling                   CarName fueltype aspiration doornumber  \\\n",
       "0       1          3        alfa-romero giulia      gas        std        two   \n",
       "1       2          3       alfa-romero stelvio      gas        std        two   \n",
       "2       3          1  alfa-romero Quadrifoglio      gas        std        two   \n",
       "3       4          2               audi 100 ls      gas        std       four   \n",
       "4       5          2                audi 100ls      gas        std       four   \n",
       "\n",
       "       carbody drivewheel enginelocation  wheelbase  ...  enginesize  \\\n",
       "0  convertible        rwd          front       88.6  ...         130   \n",
       "1  convertible        rwd          front       88.6  ...         130   \n",
       "2    hatchback        rwd          front       94.5  ...         152   \n",
       "3        sedan        fwd          front       99.8  ...         109   \n",
       "4        sedan        4wd          front       99.4  ...         136   \n",
       "\n",
       "   fuelsystem  boreratio  stroke compressionratio horsepower  peakrpm citympg  \\\n",
       "0        mpfi       3.47    2.68              9.0        111     5000      21   \n",
       "1        mpfi       3.47    2.68              9.0        111     5000      21   \n",
       "2        mpfi       2.68    3.47              9.0        154     5000      19   \n",
       "3        mpfi       3.19    3.40             10.0        102     5500      24   \n",
       "4        mpfi       3.19    3.40              8.0        115     5500      18   \n",
       "\n",
       "   highwaympg    price  \n",
       "0          27  13495.0  \n",
       "1          27  16500.0  \n",
       "2          26  16500.0  \n",
       "3          30  13950.0  \n",
       "4          22  17450.0  \n",
       "\n",
       "[5 rows x 26 columns]"
      ]
     },
     "execution_count": 2,
     "metadata": {},
     "output_type": "execute_result"
    }
   ],
   "source": [
    "\"\"\"if you want to see the whole data you can use:\"\"\"\n",
    "#pd.set_option(‘display.max_columns’, 100))\n",
    "\n",
    "df = pd.read_csv(\"/kaggle/input/car-price-prediction/CarPrice_Assignment.csv\")\n",
    "df.head()"
   ]
  },
  {
   "cell_type": "markdown",
   "id": "96e88adb",
   "metadata": {
    "papermill": {
     "duration": 0.013443,
     "end_time": "2024-08-12T18:46:14.114335",
     "exception": false,
     "start_time": "2024-08-12T18:46:14.100892",
     "status": "completed"
    },
    "tags": []
   },
   "source": []
  },
  {
   "cell_type": "markdown",
   "id": "d4ce8ed6",
   "metadata": {
    "papermill": {
     "duration": 0.01372,
     "end_time": "2024-08-12T18:46:14.142558",
     "exception": false,
     "start_time": "2024-08-12T18:46:14.128838",
     "status": "completed"
    },
    "tags": []
   },
   "source": [
    "### 02.Checking shape and if there are  values"
   ]
  },
  {
   "cell_type": "code",
   "execution_count": 3,
   "id": "71ccefb0",
   "metadata": {
    "execution": {
     "iopub.execute_input": "2024-08-12T18:46:14.173960Z",
     "iopub.status.busy": "2024-08-12T18:46:14.173523Z",
     "iopub.status.idle": "2024-08-12T18:46:14.181997Z",
     "shell.execute_reply": "2024-08-12T18:46:14.180697Z"
    },
    "papermill": {
     "duration": 0.027857,
     "end_time": "2024-08-12T18:46:14.184851",
     "exception": false,
     "start_time": "2024-08-12T18:46:14.156994",
     "status": "completed"
    },
    "tags": []
   },
   "outputs": [
    {
     "data": {
      "text/plain": [
       "(205, 26)"
      ]
     },
     "execution_count": 3,
     "metadata": {},
     "output_type": "execute_result"
    }
   ],
   "source": [
    "df.shape"
   ]
  },
  {
   "cell_type": "code",
   "execution_count": 4,
   "id": "42e6262a",
   "metadata": {
    "execution": {
     "iopub.execute_input": "2024-08-12T18:46:14.216958Z",
     "iopub.status.busy": "2024-08-12T18:46:14.215920Z",
     "iopub.status.idle": "2024-08-12T18:46:14.229853Z",
     "shell.execute_reply": "2024-08-12T18:46:14.228149Z"
    },
    "papermill": {
     "duration": 0.033398,
     "end_time": "2024-08-12T18:46:14.232645",
     "exception": false,
     "start_time": "2024-08-12T18:46:14.199247",
     "status": "completed"
    },
    "tags": []
   },
   "outputs": [
    {
     "data": {
      "text/plain": [
       "car_ID              0\n",
       "symboling           0\n",
       "CarName             0\n",
       "fueltype            0\n",
       "aspiration          0\n",
       "doornumber          0\n",
       "carbody             0\n",
       "drivewheel          0\n",
       "enginelocation      0\n",
       "wheelbase           0\n",
       "carlength           0\n",
       "carwidth            0\n",
       "carheight           0\n",
       "curbweight          0\n",
       "enginetype          0\n",
       "cylindernumber      0\n",
       "enginesize          0\n",
       "fuelsystem          0\n",
       "boreratio           0\n",
       "stroke              0\n",
       "compressionratio    0\n",
       "horsepower          0\n",
       "peakrpm             0\n",
       "citympg             0\n",
       "highwaympg          0\n",
       "price               0\n",
       "dtype: int64"
      ]
     },
     "execution_count": 4,
     "metadata": {},
     "output_type": "execute_result"
    }
   ],
   "source": [
    "df.isnull().sum()"
   ]
  },
  {
   "cell_type": "markdown",
   "id": "a39ef737",
   "metadata": {
    "papermill": {
     "duration": 0.014606,
     "end_time": "2024-08-12T18:46:14.262524",
     "exception": false,
     "start_time": "2024-08-12T18:46:14.247918",
     "status": "completed"
    },
    "tags": []
   },
   "source": [
    "### 03. Checking the datatypes of the columns"
   ]
  },
  {
   "cell_type": "code",
   "execution_count": 5,
   "id": "51ee7b5a",
   "metadata": {
    "execution": {
     "iopub.execute_input": "2024-08-12T18:46:14.294277Z",
     "iopub.status.busy": "2024-08-12T18:46:14.293832Z",
     "iopub.status.idle": "2024-08-12T18:46:14.302025Z",
     "shell.execute_reply": "2024-08-12T18:46:14.300629Z"
    },
    "papermill": {
     "duration": 0.028062,
     "end_time": "2024-08-12T18:46:14.305729",
     "exception": false,
     "start_time": "2024-08-12T18:46:14.277667",
     "status": "completed"
    },
    "tags": []
   },
   "outputs": [
    {
     "name": "stdout",
     "output_type": "stream",
     "text": [
      "car_ID - int64\n",
      "symboling - int64\n",
      "CarName - object\n",
      "fueltype - object\n",
      "aspiration - object\n",
      "doornumber - object\n",
      "carbody - object\n",
      "drivewheel - object\n",
      "enginelocation - object\n",
      "wheelbase - float64\n",
      "carlength - float64\n",
      "carwidth - float64\n",
      "carheight - float64\n",
      "curbweight - int64\n",
      "enginetype - object\n",
      "cylindernumber - object\n",
      "enginesize - int64\n",
      "fuelsystem - object\n",
      "boreratio - float64\n",
      "stroke - float64\n",
      "compressionratio - float64\n",
      "horsepower - int64\n",
      "peakrpm - int64\n",
      "citympg - int64\n",
      "highwaympg - int64\n",
      "price - float64\n"
     ]
    }
   ],
   "source": [
    "for i in df.columns:\n",
    "    print(f\"{i} - {df[i].dtype}\")"
   ]
  },
  {
   "cell_type": "markdown",
   "id": "f345e8b0",
   "metadata": {
    "papermill": {
     "duration": 0.015462,
     "end_time": "2024-08-12T18:46:14.336018",
     "exception": false,
     "start_time": "2024-08-12T18:46:14.320556",
     "status": "completed"
    },
    "tags": []
   },
   "source": [
    "### 04. Dividing categorical collumns from the numerical ones"
   ]
  },
  {
   "cell_type": "code",
   "execution_count": 6,
   "id": "e06b4bb6",
   "metadata": {
    "execution": {
     "iopub.execute_input": "2024-08-12T18:46:14.368802Z",
     "iopub.status.busy": "2024-08-12T18:46:14.367807Z",
     "iopub.status.idle": "2024-08-12T18:46:14.378229Z",
     "shell.execute_reply": "2024-08-12T18:46:14.377017Z"
    },
    "papermill": {
     "duration": 0.029407,
     "end_time": "2024-08-12T18:46:14.380729",
     "exception": false,
     "start_time": "2024-08-12T18:46:14.351322",
     "status": "completed"
    },
    "tags": []
   },
   "outputs": [
    {
     "data": {
      "text/plain": [
       "['CarName',\n",
       " 'fueltype',\n",
       " 'aspiration',\n",
       " 'doornumber',\n",
       " 'carbody',\n",
       " 'drivewheel',\n",
       " 'enginelocation',\n",
       " 'enginetype',\n",
       " 'cylindernumber',\n",
       " 'fuelsystem']"
      ]
     },
     "execution_count": 6,
     "metadata": {},
     "output_type": "execute_result"
    }
   ],
   "source": [
    "num_columns = []\n",
    "cat_columns = []\n",
    "\n",
    "for i in df.columns:\n",
    "    if df[i].dtype == \"object\":\n",
    "        cat_columns.append(i)\n",
    "    else:\n",
    "        num_columns.append(i)\n",
    "\n",
    "cat_columns\n",
    "        "
   ]
  },
  {
   "cell_type": "markdown",
   "id": "75f268e3",
   "metadata": {
    "papermill": {
     "duration": 0.015078,
     "end_time": "2024-08-12T18:46:14.411612",
     "exception": false,
     "start_time": "2024-08-12T18:46:14.396534",
     "status": "completed"
    },
    "tags": []
   },
   "source": [
    "### 05. Let's see how many distinct values there are in this categorical list"
   ]
  },
  {
   "cell_type": "code",
   "execution_count": 7,
   "id": "786a733b",
   "metadata": {
    "execution": {
     "iopub.execute_input": "2024-08-12T18:46:14.444916Z",
     "iopub.status.busy": "2024-08-12T18:46:14.444487Z",
     "iopub.status.idle": "2024-08-12T18:46:14.456113Z",
     "shell.execute_reply": "2024-08-12T18:46:14.454564Z"
    },
    "papermill": {
     "duration": 0.031313,
     "end_time": "2024-08-12T18:46:14.458952",
     "exception": false,
     "start_time": "2024-08-12T18:46:14.427639",
     "status": "completed"
    },
    "tags": []
   },
   "outputs": [
    {
     "name": "stdout",
     "output_type": "stream",
     "text": [
      "CarName: 147\n",
      "fueltype: 2\n",
      "aspiration: 2\n",
      "doornumber: 2\n",
      "carbody: 5\n",
      "drivewheel: 3\n",
      "enginelocation: 2\n",
      "enginetype: 7\n",
      "cylindernumber: 7\n",
      "fuelsystem: 8\n"
     ]
    }
   ],
   "source": [
    "for i in cat_columns:\n",
    "    print(f\"{i}: {df[i].nunique()}\")\n"
   ]
  },
  {
   "cell_type": "markdown",
   "id": "c13ef64f",
   "metadata": {
    "papermill": {
     "duration": 0.015302,
     "end_time": "2024-08-12T18:46:14.489844",
     "exception": false,
     "start_time": "2024-08-12T18:46:14.474542",
     "status": "completed"
    },
    "tags": []
   },
   "source": [
    "### 06. Let’s also know the distribution of values in the categorical columns using value_counts() method."
   ]
  },
  {
   "cell_type": "code",
   "execution_count": 8,
   "id": "9cf16c4c",
   "metadata": {
    "execution": {
     "iopub.execute_input": "2024-08-12T18:46:14.523679Z",
     "iopub.status.busy": "2024-08-12T18:46:14.523216Z",
     "iopub.status.idle": "2024-08-12T18:46:14.547314Z",
     "shell.execute_reply": "2024-08-12T18:46:14.545805Z"
    },
    "papermill": {
     "duration": 0.044395,
     "end_time": "2024-08-12T18:46:14.550486",
     "exception": false,
     "start_time": "2024-08-12T18:46:14.506091",
     "status": "completed"
    },
    "tags": []
   },
   "outputs": [
    {
     "name": "stdout",
     "output_type": "stream",
     "text": [
      "fueltype\n",
      "gas       185\n",
      "diesel     20\n",
      "Name: count, dtype: int64\n",
      "------------------------------\n",
      "aspiration\n",
      "std      168\n",
      "turbo     37\n",
      "Name: count, dtype: int64\n",
      "------------------------------\n",
      "doornumber\n",
      "four    115\n",
      "two      90\n",
      "Name: count, dtype: int64\n",
      "------------------------------\n",
      "carbody\n",
      "sedan          96\n",
      "hatchback      70\n",
      "wagon          25\n",
      "hardtop         8\n",
      "convertible     6\n",
      "Name: count, dtype: int64\n",
      "------------------------------\n",
      "drivewheel\n",
      "fwd    120\n",
      "rwd     76\n",
      "4wd      9\n",
      "Name: count, dtype: int64\n",
      "------------------------------\n",
      "enginelocation\n",
      "front    202\n",
      "rear       3\n",
      "Name: count, dtype: int64\n",
      "------------------------------\n",
      "enginetype\n",
      "ohc      148\n",
      "ohcf      15\n",
      "ohcv      13\n",
      "dohc      12\n",
      "l         12\n",
      "rotor      4\n",
      "dohcv      1\n",
      "Name: count, dtype: int64\n",
      "------------------------------\n",
      "cylindernumber\n",
      "four      159\n",
      "six        24\n",
      "five       11\n",
      "eight       5\n",
      "two         4\n",
      "three       1\n",
      "twelve      1\n",
      "Name: count, dtype: int64\n",
      "------------------------------\n",
      "fuelsystem\n",
      "mpfi    94\n",
      "2bbl    66\n",
      "idi     20\n",
      "1bbl    11\n",
      "spdi     9\n",
      "4bbl     3\n",
      "mfi      1\n",
      "spfi     1\n",
      "Name: count, dtype: int64\n"
     ]
    }
   ],
   "source": [
    "print(df['fueltype'].value_counts())\n",
    "print('------------------------------')\n",
    "print(df['aspiration'].value_counts())\n",
    "print('------------------------------')\n",
    "print(df['doornumber'].value_counts())\n",
    "print('------------------------------')\n",
    "print(df['carbody'].value_counts())\n",
    "print('------------------------------')\n",
    "print(df['drivewheel'].value_counts())\n",
    "print('------------------------------')\n",
    "print(df['enginelocation'].value_counts())\n",
    "print('------------------------------')\n",
    "print(df['enginetype'].value_counts())\n",
    "print('------------------------------')\n",
    "print(df['cylindernumber'].value_counts())\n",
    "print('------------------------------')\n",
    "print(df['fuelsystem'].value_counts())"
   ]
  },
  {
   "cell_type": "code",
   "execution_count": 9,
   "id": "14163a5a",
   "metadata": {
    "execution": {
     "iopub.execute_input": "2024-08-12T18:46:14.583381Z",
     "iopub.status.busy": "2024-08-12T18:46:14.582914Z",
     "iopub.status.idle": "2024-08-12T18:46:14.595603Z",
     "shell.execute_reply": "2024-08-12T18:46:14.594329Z"
    },
    "papermill": {
     "duration": 0.032405,
     "end_time": "2024-08-12T18:46:14.598352",
     "exception": false,
     "start_time": "2024-08-12T18:46:14.565947",
     "status": "completed"
    },
    "tags": []
   },
   "outputs": [
    {
     "data": {
      "text/plain": [
       "0     alfa-\n",
       "1     alfa-\n",
       "2     alfa-\n",
       "3     audi \n",
       "4     audi \n",
       "5     audi \n",
       "6     audi \n",
       "7     audi \n",
       "8     audi \n",
       "9     audi \n",
       "10    bmw 3\n",
       "11    bmw 3\n",
       "12    bmw x\n",
       "13    bmw x\n",
       "14    bmw z\n",
       "15    bmw x\n",
       "16    bmw x\n",
       "17    bmw x\n",
       "18    chevr\n",
       "19    chevr\n",
       "20    chevr\n",
       "21    dodge\n",
       "22    dodge\n",
       "23    dodge\n",
       "24    dodge\n",
       "25    dodge\n",
       "26    dodge\n",
       "27    dodge\n",
       "28    dodge\n",
       "29    dodge\n",
       "30    honda\n",
       "31    honda\n",
       "32    honda\n",
       "33    honda\n",
       "34    honda\n",
       "35    honda\n",
       "36    honda\n",
       "37    honda\n",
       "38    honda\n",
       "39    honda\n",
       "Name: Car_Name, dtype: object"
      ]
     },
     "execution_count": 9,
     "metadata": {},
     "output_type": "execute_result"
    }
   ],
   "source": [
    "df['Car_Name'] = df['CarName'].str[:5]\n",
    "df['Car_Name'].head(40)"
   ]
  },
  {
   "cell_type": "markdown",
   "id": "71606ea9",
   "metadata": {
    "papermill": {
     "duration": 0.016216,
     "end_time": "2024-08-12T18:46:14.630768",
     "exception": false,
     "start_time": "2024-08-12T18:46:14.614552",
     "status": "completed"
    },
    "tags": []
   },
   "source": [
    "### 07. Copying the original DataFrame "
   ]
  },
  {
   "cell_type": "code",
   "execution_count": 10,
   "id": "c2bd2336",
   "metadata": {
    "execution": {
     "iopub.execute_input": "2024-08-12T18:46:14.670085Z",
     "iopub.status.busy": "2024-08-12T18:46:14.668555Z",
     "iopub.status.idle": "2024-08-12T18:46:14.676811Z",
     "shell.execute_reply": "2024-08-12T18:46:14.675489Z"
    },
    "papermill": {
     "duration": 0.03259,
     "end_time": "2024-08-12T18:46:14.679499",
     "exception": false,
     "start_time": "2024-08-12T18:46:14.646909",
     "status": "completed"
    },
    "tags": []
   },
   "outputs": [],
   "source": [
    "df1 = df.copy()"
   ]
  },
  {
   "cell_type": "code",
   "execution_count": 11,
   "id": "0e0d1592",
   "metadata": {
    "execution": {
     "iopub.execute_input": "2024-08-12T18:46:14.726345Z",
     "iopub.status.busy": "2024-08-12T18:46:14.725006Z",
     "iopub.status.idle": "2024-08-12T18:46:14.747663Z",
     "shell.execute_reply": "2024-08-12T18:46:14.746546Z"
    },
    "papermill": {
     "duration": 0.048986,
     "end_time": "2024-08-12T18:46:14.750198",
     "exception": false,
     "start_time": "2024-08-12T18:46:14.701212",
     "status": "completed"
    },
    "tags": []
   },
   "outputs": [
    {
     "name": "stderr",
     "output_type": "stream",
     "text": [
      "/tmp/ipykernel_18/3792994071.py:1: FutureWarning: Downcasting behavior in `replace` is deprecated and will be removed in a future version. To retain the old behavior, explicitly call `result.infer_objects(copy=False)`. To opt-in to the future behavior, set `pd.set_option('future.no_silent_downcasting', True)`\n",
      "  df1.replace({'fueltype':{'gas':0, 'diesel':1}}, inplace=True)\n",
      "/tmp/ipykernel_18/3792994071.py:2: FutureWarning: Downcasting behavior in `replace` is deprecated and will be removed in a future version. To retain the old behavior, explicitly call `result.infer_objects(copy=False)`. To opt-in to the future behavior, set `pd.set_option('future.no_silent_downcasting', True)`\n",
      "  df1.replace({'aspiration':{'std':0, 'turbo':1}}, inplace=True)\n",
      "/tmp/ipykernel_18/3792994071.py:3: FutureWarning: Downcasting behavior in `replace` is deprecated and will be removed in a future version. To retain the old behavior, explicitly call `result.infer_objects(copy=False)`. To opt-in to the future behavior, set `pd.set_option('future.no_silent_downcasting', True)`\n",
      "  df1.replace({'doornumber':{'four':0, 'two':1}}, inplace=True)\n",
      "/tmp/ipykernel_18/3792994071.py:4: FutureWarning: Downcasting behavior in `replace` is deprecated and will be removed in a future version. To retain the old behavior, explicitly call `result.infer_objects(copy=False)`. To opt-in to the future behavior, set `pd.set_option('future.no_silent_downcasting', True)`\n",
      "  df1.replace({'enginelocation':{'front':0, 'rear':1}}, inplace=True)\n",
      "/tmp/ipykernel_18/3792994071.py:5: FutureWarning: Downcasting behavior in `replace` is deprecated and will be removed in a future version. To retain the old behavior, explicitly call `result.infer_objects(copy=False)`. To opt-in to the future behavior, set `pd.set_option('future.no_silent_downcasting', True)`\n",
      "  df1.replace({'drivewheel':{'fwd':0, 'rwd':1, '4wd':2}}, inplace=True)\n",
      "/tmp/ipykernel_18/3792994071.py:6: FutureWarning: Downcasting behavior in `replace` is deprecated and will be removed in a future version. To retain the old behavior, explicitly call `result.infer_objects(copy=False)`. To opt-in to the future behavior, set `pd.set_option('future.no_silent_downcasting', True)`\n",
      "  df1.replace({'carbody':{'sedan':0, 'hatchback':1, 'wagon':2, 'hardtop':3, 'convertible':4}}, inplace=True)\n",
      "/tmp/ipykernel_18/3792994071.py:7: FutureWarning: Downcasting behavior in `replace` is deprecated and will be removed in a future version. To retain the old behavior, explicitly call `result.infer_objects(copy=False)`. To opt-in to the future behavior, set `pd.set_option('future.no_silent_downcasting', True)`\n",
      "  df1.replace({'cylindernumber':{'two':2, 'three':3, 'four':4, 'five':5, 'six':6, 'eight':8, 'twelve':12}}, inplace=True)\n"
     ]
    }
   ],
   "source": [
    "df1.replace({'fueltype':{'gas':0, 'diesel':1}}, inplace=True)\n",
    "df1.replace({'aspiration':{'std':0, 'turbo':1}}, inplace=True)\n",
    "df1.replace({'doornumber':{'four':0, 'two':1}}, inplace=True)\n",
    "df1.replace({'enginelocation':{'front':0, 'rear':1}}, inplace=True)\n",
    "df1.replace({'drivewheel':{'fwd':0, 'rwd':1, '4wd':2}}, inplace=True)\n",
    "df1.replace({'carbody':{'sedan':0, 'hatchback':1, 'wagon':2, 'hardtop':3, 'convertible':4}}, inplace=True)\n",
    "df1.replace({'cylindernumber':{'two':2, 'three':3, 'four':4, 'five':5, 'six':6, 'eight':8, 'twelve':12}}, inplace=True)"
   ]
  },
  {
   "cell_type": "markdown",
   "id": "13856208",
   "metadata": {
    "papermill": {
     "duration": 0.015915,
     "end_time": "2024-08-12T18:46:14.781834",
     "exception": false,
     "start_time": "2024-08-12T18:46:14.765919",
     "status": "completed"
    },
    "tags": []
   },
   "source": [
    "### 08. Let's see how our data look now"
   ]
  },
  {
   "cell_type": "code",
   "execution_count": 12,
   "id": "91da79ef",
   "metadata": {
    "execution": {
     "iopub.execute_input": "2024-08-12T18:46:14.816553Z",
     "iopub.status.busy": "2024-08-12T18:46:14.815606Z",
     "iopub.status.idle": "2024-08-12T18:46:14.858819Z",
     "shell.execute_reply": "2024-08-12T18:46:14.857394Z"
    },
    "papermill": {
     "duration": 0.065619,
     "end_time": "2024-08-12T18:46:14.863595",
     "exception": false,
     "start_time": "2024-08-12T18:46:14.797976",
     "status": "completed"
    },
    "tags": []
   },
   "outputs": [
    {
     "data": {
      "text/html": [
       "<div>\n",
       "<style scoped>\n",
       "    .dataframe tbody tr th:only-of-type {\n",
       "        vertical-align: middle;\n",
       "    }\n",
       "\n",
       "    .dataframe tbody tr th {\n",
       "        vertical-align: top;\n",
       "    }\n",
       "\n",
       "    .dataframe thead th {\n",
       "        text-align: right;\n",
       "    }\n",
       "</style>\n",
       "<table border=\"1\" class=\"dataframe\">\n",
       "  <thead>\n",
       "    <tr style=\"text-align: right;\">\n",
       "      <th></th>\n",
       "      <th>car_ID</th>\n",
       "      <th>symboling</th>\n",
       "      <th>CarName</th>\n",
       "      <th>fueltype</th>\n",
       "      <th>aspiration</th>\n",
       "      <th>doornumber</th>\n",
       "      <th>carbody</th>\n",
       "      <th>drivewheel</th>\n",
       "      <th>enginelocation</th>\n",
       "      <th>wheelbase</th>\n",
       "      <th>carlength</th>\n",
       "      <th>carwidth</th>\n",
       "      <th>carheight</th>\n",
       "      <th>curbweight</th>\n",
       "      <th>enginetype</th>\n",
       "      <th>cylindernumber</th>\n",
       "      <th>enginesize</th>\n",
       "      <th>fuelsystem</th>\n",
       "      <th>boreratio</th>\n",
       "      <th>stroke</th>\n",
       "      <th>compressionratio</th>\n",
       "      <th>horsepower</th>\n",
       "      <th>peakrpm</th>\n",
       "      <th>citympg</th>\n",
       "      <th>highwaympg</th>\n",
       "      <th>price</th>\n",
       "      <th>Car_Name</th>\n",
       "    </tr>\n",
       "  </thead>\n",
       "  <tbody>\n",
       "    <tr>\n",
       "      <th>0</th>\n",
       "      <td>1</td>\n",
       "      <td>3</td>\n",
       "      <td>alfa-romero giulia</td>\n",
       "      <td>0</td>\n",
       "      <td>0</td>\n",
       "      <td>1</td>\n",
       "      <td>4</td>\n",
       "      <td>1</td>\n",
       "      <td>0</td>\n",
       "      <td>88.6</td>\n",
       "      <td>168.8</td>\n",
       "      <td>64.1</td>\n",
       "      <td>48.8</td>\n",
       "      <td>2548</td>\n",
       "      <td>dohc</td>\n",
       "      <td>4</td>\n",
       "      <td>130</td>\n",
       "      <td>mpfi</td>\n",
       "      <td>3.47</td>\n",
       "      <td>2.68</td>\n",
       "      <td>9.0</td>\n",
       "      <td>111</td>\n",
       "      <td>5000</td>\n",
       "      <td>21</td>\n",
       "      <td>27</td>\n",
       "      <td>13495.0</td>\n",
       "      <td>alfa-</td>\n",
       "    </tr>\n",
       "    <tr>\n",
       "      <th>1</th>\n",
       "      <td>2</td>\n",
       "      <td>3</td>\n",
       "      <td>alfa-romero stelvio</td>\n",
       "      <td>0</td>\n",
       "      <td>0</td>\n",
       "      <td>1</td>\n",
       "      <td>4</td>\n",
       "      <td>1</td>\n",
       "      <td>0</td>\n",
       "      <td>88.6</td>\n",
       "      <td>168.8</td>\n",
       "      <td>64.1</td>\n",
       "      <td>48.8</td>\n",
       "      <td>2548</td>\n",
       "      <td>dohc</td>\n",
       "      <td>4</td>\n",
       "      <td>130</td>\n",
       "      <td>mpfi</td>\n",
       "      <td>3.47</td>\n",
       "      <td>2.68</td>\n",
       "      <td>9.0</td>\n",
       "      <td>111</td>\n",
       "      <td>5000</td>\n",
       "      <td>21</td>\n",
       "      <td>27</td>\n",
       "      <td>16500.0</td>\n",
       "      <td>alfa-</td>\n",
       "    </tr>\n",
       "    <tr>\n",
       "      <th>2</th>\n",
       "      <td>3</td>\n",
       "      <td>1</td>\n",
       "      <td>alfa-romero Quadrifoglio</td>\n",
       "      <td>0</td>\n",
       "      <td>0</td>\n",
       "      <td>1</td>\n",
       "      <td>1</td>\n",
       "      <td>1</td>\n",
       "      <td>0</td>\n",
       "      <td>94.5</td>\n",
       "      <td>171.2</td>\n",
       "      <td>65.5</td>\n",
       "      <td>52.4</td>\n",
       "      <td>2823</td>\n",
       "      <td>ohcv</td>\n",
       "      <td>6</td>\n",
       "      <td>152</td>\n",
       "      <td>mpfi</td>\n",
       "      <td>2.68</td>\n",
       "      <td>3.47</td>\n",
       "      <td>9.0</td>\n",
       "      <td>154</td>\n",
       "      <td>5000</td>\n",
       "      <td>19</td>\n",
       "      <td>26</td>\n",
       "      <td>16500.0</td>\n",
       "      <td>alfa-</td>\n",
       "    </tr>\n",
       "    <tr>\n",
       "      <th>3</th>\n",
       "      <td>4</td>\n",
       "      <td>2</td>\n",
       "      <td>audi 100 ls</td>\n",
       "      <td>0</td>\n",
       "      <td>0</td>\n",
       "      <td>0</td>\n",
       "      <td>0</td>\n",
       "      <td>0</td>\n",
       "      <td>0</td>\n",
       "      <td>99.8</td>\n",
       "      <td>176.6</td>\n",
       "      <td>66.2</td>\n",
       "      <td>54.3</td>\n",
       "      <td>2337</td>\n",
       "      <td>ohc</td>\n",
       "      <td>4</td>\n",
       "      <td>109</td>\n",
       "      <td>mpfi</td>\n",
       "      <td>3.19</td>\n",
       "      <td>3.40</td>\n",
       "      <td>10.0</td>\n",
       "      <td>102</td>\n",
       "      <td>5500</td>\n",
       "      <td>24</td>\n",
       "      <td>30</td>\n",
       "      <td>13950.0</td>\n",
       "      <td>audi</td>\n",
       "    </tr>\n",
       "    <tr>\n",
       "      <th>4</th>\n",
       "      <td>5</td>\n",
       "      <td>2</td>\n",
       "      <td>audi 100ls</td>\n",
       "      <td>0</td>\n",
       "      <td>0</td>\n",
       "      <td>0</td>\n",
       "      <td>0</td>\n",
       "      <td>2</td>\n",
       "      <td>0</td>\n",
       "      <td>99.4</td>\n",
       "      <td>176.6</td>\n",
       "      <td>66.4</td>\n",
       "      <td>54.3</td>\n",
       "      <td>2824</td>\n",
       "      <td>ohc</td>\n",
       "      <td>5</td>\n",
       "      <td>136</td>\n",
       "      <td>mpfi</td>\n",
       "      <td>3.19</td>\n",
       "      <td>3.40</td>\n",
       "      <td>8.0</td>\n",
       "      <td>115</td>\n",
       "      <td>5500</td>\n",
       "      <td>18</td>\n",
       "      <td>22</td>\n",
       "      <td>17450.0</td>\n",
       "      <td>audi</td>\n",
       "    </tr>\n",
       "  </tbody>\n",
       "</table>\n",
       "</div>"
      ],
      "text/plain": [
       "   car_ID  symboling                   CarName  fueltype  aspiration  \\\n",
       "0       1          3        alfa-romero giulia         0           0   \n",
       "1       2          3       alfa-romero stelvio         0           0   \n",
       "2       3          1  alfa-romero Quadrifoglio         0           0   \n",
       "3       4          2               audi 100 ls         0           0   \n",
       "4       5          2                audi 100ls         0           0   \n",
       "\n",
       "   doornumber  carbody  drivewheel  enginelocation  wheelbase  carlength  \\\n",
       "0           1        4           1               0       88.6      168.8   \n",
       "1           1        4           1               0       88.6      168.8   \n",
       "2           1        1           1               0       94.5      171.2   \n",
       "3           0        0           0               0       99.8      176.6   \n",
       "4           0        0           2               0       99.4      176.6   \n",
       "\n",
       "   carwidth  carheight  curbweight enginetype  cylindernumber  enginesize  \\\n",
       "0      64.1       48.8        2548       dohc               4         130   \n",
       "1      64.1       48.8        2548       dohc               4         130   \n",
       "2      65.5       52.4        2823       ohcv               6         152   \n",
       "3      66.2       54.3        2337        ohc               4         109   \n",
       "4      66.4       54.3        2824        ohc               5         136   \n",
       "\n",
       "  fuelsystem  boreratio  stroke  compressionratio  horsepower  peakrpm  \\\n",
       "0       mpfi       3.47    2.68               9.0         111     5000   \n",
       "1       mpfi       3.47    2.68               9.0         111     5000   \n",
       "2       mpfi       2.68    3.47               9.0         154     5000   \n",
       "3       mpfi       3.19    3.40              10.0         102     5500   \n",
       "4       mpfi       3.19    3.40               8.0         115     5500   \n",
       "\n",
       "   citympg  highwaympg    price Car_Name  \n",
       "0       21          27  13495.0    alfa-  \n",
       "1       21          27  16500.0    alfa-  \n",
       "2       19          26  16500.0    alfa-  \n",
       "3       24          30  13950.0    audi   \n",
       "4       18          22  17450.0    audi   "
      ]
     },
     "execution_count": 12,
     "metadata": {},
     "output_type": "execute_result"
    }
   ],
   "source": [
    "pd.set_option('display.max_columns', 100)\n",
    "df1.head()"
   ]
  },
  {
   "cell_type": "markdown",
   "id": "76a827ab",
   "metadata": {
    "papermill": {
     "duration": 0.022928,
     "end_time": "2024-08-12T18:46:14.910466",
     "exception": false,
     "start_time": "2024-08-12T18:46:14.887538",
     "status": "completed"
    },
    "tags": []
   },
   "source": [
    "### 09. We still got few categorical columns, let’s use the same formula we used earlier to store them in a list."
   ]
  },
  {
   "cell_type": "code",
   "execution_count": 13,
   "id": "b7a394e3",
   "metadata": {
    "execution": {
     "iopub.execute_input": "2024-08-12T18:46:14.952332Z",
     "iopub.status.busy": "2024-08-12T18:46:14.951733Z",
     "iopub.status.idle": "2024-08-12T18:46:14.967679Z",
     "shell.execute_reply": "2024-08-12T18:46:14.965770Z"
    },
    "papermill": {
     "duration": 0.039731,
     "end_time": "2024-08-12T18:46:14.971206",
     "exception": false,
     "start_time": "2024-08-12T18:46:14.931475",
     "status": "completed"
    },
    "tags": []
   },
   "outputs": [
    {
     "data": {
      "text/plain": [
       "['CarName', 'enginetype', 'fuelsystem', 'Car_Name']"
      ]
     },
     "execution_count": 13,
     "metadata": {},
     "output_type": "execute_result"
    }
   ],
   "source": [
    "df1_cat_columns = []\n",
    "df1_num_columns = []\n",
    "for i in df1.columns:\n",
    "  if df1[i].dtype == object:\n",
    "    df1_cat_columns.append(i)\n",
    "  else:\n",
    "    df1_num_columns.append(i)\n",
    "\n",
    "\n",
    "df1_cat_columns"
   ]
  },
  {
   "cell_type": "markdown",
   "id": "5e9da6c2",
   "metadata": {
    "papermill": {
     "duration": 0.018021,
     "end_time": "2024-08-12T18:46:15.007583",
     "exception": false,
     "start_time": "2024-08-12T18:46:14.989562",
     "status": "completed"
    },
    "tags": []
   },
   "source": [
    "### 09. Let's use LabelEncoder to convert the above columns into numbers."
   ]
  },
  {
   "cell_type": "code",
   "execution_count": 14,
   "id": "bec29211",
   "metadata": {
    "execution": {
     "iopub.execute_input": "2024-08-12T18:46:15.045591Z",
     "iopub.status.busy": "2024-08-12T18:46:15.045072Z",
     "iopub.status.idle": "2024-08-12T18:46:15.066874Z",
     "shell.execute_reply": "2024-08-12T18:46:15.065257Z"
    },
    "papermill": {
     "duration": 0.044415,
     "end_time": "2024-08-12T18:46:15.070595",
     "exception": false,
     "start_time": "2024-08-12T18:46:15.026180",
     "status": "completed"
    },
    "tags": []
   },
   "outputs": [
    {
     "data": {
      "text/html": [
       "<div>\n",
       "<style scoped>\n",
       "    .dataframe tbody tr th:only-of-type {\n",
       "        vertical-align: middle;\n",
       "    }\n",
       "\n",
       "    .dataframe tbody tr th {\n",
       "        vertical-align: top;\n",
       "    }\n",
       "\n",
       "    .dataframe thead th {\n",
       "        text-align: right;\n",
       "    }\n",
       "</style>\n",
       "<table border=\"1\" class=\"dataframe\">\n",
       "  <thead>\n",
       "    <tr style=\"text-align: right;\">\n",
       "      <th></th>\n",
       "      <th>CarName</th>\n",
       "      <th>enginetype</th>\n",
       "      <th>fuelsystem</th>\n",
       "      <th>Car_Name</th>\n",
       "    </tr>\n",
       "  </thead>\n",
       "  <tbody>\n",
       "    <tr>\n",
       "      <th>0</th>\n",
       "      <td>0</td>\n",
       "      <td>2</td>\n",
       "      <td>3</td>\n",
       "      <td>1</td>\n",
       "    </tr>\n",
       "    <tr>\n",
       "      <th>1</th>\n",
       "      <td>0</td>\n",
       "      <td>2</td>\n",
       "      <td>3</td>\n",
       "      <td>1</td>\n",
       "    </tr>\n",
       "    <tr>\n",
       "      <th>2</th>\n",
       "      <td>0</td>\n",
       "      <td>2</td>\n",
       "      <td>3</td>\n",
       "      <td>1</td>\n",
       "    </tr>\n",
       "    <tr>\n",
       "      <th>3</th>\n",
       "      <td>0</td>\n",
       "      <td>2</td>\n",
       "      <td>3</td>\n",
       "      <td>1</td>\n",
       "    </tr>\n",
       "    <tr>\n",
       "      <th>4</th>\n",
       "      <td>0</td>\n",
       "      <td>2</td>\n",
       "      <td>3</td>\n",
       "      <td>1</td>\n",
       "    </tr>\n",
       "    <tr>\n",
       "      <th>...</th>\n",
       "      <td>...</td>\n",
       "      <td>...</td>\n",
       "      <td>...</td>\n",
       "      <td>...</td>\n",
       "    </tr>\n",
       "    <tr>\n",
       "      <th>200</th>\n",
       "      <td>0</td>\n",
       "      <td>2</td>\n",
       "      <td>3</td>\n",
       "      <td>1</td>\n",
       "    </tr>\n",
       "    <tr>\n",
       "      <th>201</th>\n",
       "      <td>0</td>\n",
       "      <td>2</td>\n",
       "      <td>3</td>\n",
       "      <td>1</td>\n",
       "    </tr>\n",
       "    <tr>\n",
       "      <th>202</th>\n",
       "      <td>0</td>\n",
       "      <td>2</td>\n",
       "      <td>3</td>\n",
       "      <td>1</td>\n",
       "    </tr>\n",
       "    <tr>\n",
       "      <th>203</th>\n",
       "      <td>0</td>\n",
       "      <td>2</td>\n",
       "      <td>3</td>\n",
       "      <td>1</td>\n",
       "    </tr>\n",
       "    <tr>\n",
       "      <th>204</th>\n",
       "      <td>0</td>\n",
       "      <td>2</td>\n",
       "      <td>3</td>\n",
       "      <td>1</td>\n",
       "    </tr>\n",
       "  </tbody>\n",
       "</table>\n",
       "<p>205 rows × 4 columns</p>\n",
       "</div>"
      ],
      "text/plain": [
       "     CarName  enginetype  fuelsystem  Car_Name\n",
       "0          0           2           3         1\n",
       "1          0           2           3         1\n",
       "2          0           2           3         1\n",
       "3          0           2           3         1\n",
       "4          0           2           3         1\n",
       "..       ...         ...         ...       ...\n",
       "200        0           2           3         1\n",
       "201        0           2           3         1\n",
       "202        0           2           3         1\n",
       "203        0           2           3         1\n",
       "204        0           2           3         1\n",
       "\n",
       "[205 rows x 4 columns]"
      ]
     },
     "execution_count": 14,
     "metadata": {},
     "output_type": "execute_result"
    }
   ],
   "source": [
    "le = LabelEncoder()\n",
    "df1[df1_cat_columns] = le.fit_transform(df1_cat_columns)\n",
    "df1[df1_cat_columns]"
   ]
  },
  {
   "cell_type": "code",
   "execution_count": 15,
   "id": "9de4e249",
   "metadata": {
    "execution": {
     "iopub.execute_input": "2024-08-12T18:46:15.186921Z",
     "iopub.status.busy": "2024-08-12T18:46:15.186448Z",
     "iopub.status.idle": "2024-08-12T18:46:15.197117Z",
     "shell.execute_reply": "2024-08-12T18:46:15.195547Z"
    },
    "papermill": {
     "duration": 0.031271,
     "end_time": "2024-08-12T18:46:15.200030",
     "exception": false,
     "start_time": "2024-08-12T18:46:15.168759",
     "status": "completed"
    },
    "tags": []
   },
   "outputs": [
    {
     "data": {
      "text/plain": [
       "car_ID                int64\n",
       "symboling             int64\n",
       "CarName               int64\n",
       "fueltype              int64\n",
       "aspiration            int64\n",
       "doornumber            int64\n",
       "carbody               int64\n",
       "drivewheel            int64\n",
       "enginelocation        int64\n",
       "wheelbase           float64\n",
       "carlength           float64\n",
       "carwidth            float64\n",
       "carheight           float64\n",
       "curbweight            int64\n",
       "enginetype            int64\n",
       "cylindernumber        int64\n",
       "enginesize            int64\n",
       "fuelsystem            int64\n",
       "boreratio           float64\n",
       "stroke              float64\n",
       "compressionratio    float64\n",
       "horsepower            int64\n",
       "peakrpm               int64\n",
       "citympg               int64\n",
       "highwaympg            int64\n",
       "price               float64\n",
       "Car_Name              int64\n",
       "dtype: object"
      ]
     },
     "execution_count": 15,
     "metadata": {},
     "output_type": "execute_result"
    }
   ],
   "source": [
    "df1.dtypes"
   ]
  },
  {
   "cell_type": "markdown",
   "id": "1099f25f",
   "metadata": {
    "papermill": {
     "duration": 0.016094,
     "end_time": "2024-08-12T18:46:15.233300",
     "exception": false,
     "start_time": "2024-08-12T18:46:15.217206",
     "status": "completed"
    },
    "tags": []
   },
   "source": [
    "### 10. Splitting data in features and labels\n",
    "\n",
    "We want to predict the prices\n",
    "The \"car_id\" is useless for our purposes so let's remove it"
   ]
  },
  {
   "cell_type": "code",
   "execution_count": 16,
   "id": "5167bc37",
   "metadata": {
    "execution": {
     "iopub.execute_input": "2024-08-12T18:46:15.268699Z",
     "iopub.status.busy": "2024-08-12T18:46:15.268231Z",
     "iopub.status.idle": "2024-08-12T18:46:15.277241Z",
     "shell.execute_reply": "2024-08-12T18:46:15.275668Z"
    },
    "papermill": {
     "duration": 0.030201,
     "end_time": "2024-08-12T18:46:15.279892",
     "exception": false,
     "start_time": "2024-08-12T18:46:15.249691",
     "status": "completed"
    },
    "tags": []
   },
   "outputs": [],
   "source": [
    "y = df1['price']\n",
    "X = df1.drop(columns=['car_ID','price'])"
   ]
  },
  {
   "cell_type": "markdown",
   "id": "4c3940ba",
   "metadata": {
    "papermill": {
     "duration": 0.016562,
     "end_time": "2024-08-12T18:46:15.313164",
     "exception": false,
     "start_time": "2024-08-12T18:46:15.296602",
     "status": "completed"
    },
    "tags": []
   },
   "source": [
    "### 11. Splitting data in train and test with sklearn\n",
    "We will use 80% for training"
   ]
  },
  {
   "cell_type": "code",
   "execution_count": 17,
   "id": "be41fd1b",
   "metadata": {
    "execution": {
     "iopub.execute_input": "2024-08-12T18:46:15.350597Z",
     "iopub.status.busy": "2024-08-12T18:46:15.350111Z",
     "iopub.status.idle": "2024-08-12T18:46:15.361948Z",
     "shell.execute_reply": "2024-08-12T18:46:15.360495Z"
    },
    "papermill": {
     "duration": 0.034106,
     "end_time": "2024-08-12T18:46:15.365060",
     "exception": false,
     "start_time": "2024-08-12T18:46:15.330954",
     "status": "completed"
    },
    "tags": []
   },
   "outputs": [],
   "source": [
    "X_train, X_test, y_train, y_test = train_test_split(X, y, test_size=0.2, train_size=0.8,\n",
    "                                                   shuffle=True, random_state=42)"
   ]
  },
  {
   "cell_type": "markdown",
   "id": "19373f13",
   "metadata": {
    "papermill": {
     "duration": 0.016499,
     "end_time": "2024-08-12T18:46:15.398693",
     "exception": false,
     "start_time": "2024-08-12T18:46:15.382194",
     "status": "completed"
    },
    "tags": []
   },
   "source": [
    "# We are going to build 4 diferente models and compare the results\n",
    "* Decision Tree Regressor\n",
    "* Random Forest Regressor\n",
    "* XGB Regressor\n",
    "* Linear Regression"
   ]
  },
  {
   "cell_type": "markdown",
   "id": "974d1d20",
   "metadata": {
    "papermill": {
     "duration": 0.016748,
     "end_time": "2024-08-12T18:46:15.432275",
     "exception": false,
     "start_time": "2024-08-12T18:46:15.415527",
     "status": "completed"
    },
    "tags": []
   },
   "source": [
    "### 12. Let' start with Decision Tree Regressor"
   ]
  },
  {
   "cell_type": "code",
   "execution_count": 18,
   "id": "4774c674",
   "metadata": {
    "execution": {
     "iopub.execute_input": "2024-08-12T18:46:15.467430Z",
     "iopub.status.busy": "2024-08-12T18:46:15.466941Z",
     "iopub.status.idle": "2024-08-12T18:46:15.486945Z",
     "shell.execute_reply": "2024-08-12T18:46:15.485325Z"
    },
    "papermill": {
     "duration": 0.041118,
     "end_time": "2024-08-12T18:46:15.489777",
     "exception": false,
     "start_time": "2024-08-12T18:46:15.448659",
     "status": "completed"
    },
    "tags": []
   },
   "outputs": [
    {
     "name": "stdout",
     "output_type": "stream",
     "text": [
      "The Mse is: 1853.2723658536586\n",
      "\n",
      " The r2_score is: 0.9029988276461218\n"
     ]
    }
   ],
   "source": [
    "dtr = DecisionTreeRegressor()\n",
    "dtr.fit(X_train, y_train)\n",
    "dtr_prediction = dtr.predict(X_test)\n",
    "\n",
    "#Checking the metrics\n",
    "dtr_mae = mean_absolute_error(y_test, dtr_prediction)\n",
    "print(f\"The Mse is: {dtr_mae}\")\n",
    "\n",
    "dtr_r2 = r2_score(y_test, dtr_prediction)\n",
    "print(f\"\\n The r2_score is: {dtr_r2}\")\n"
   ]
  },
  {
   "cell_type": "markdown",
   "id": "8689f576",
   "metadata": {
    "papermill": {
     "duration": 0.017197,
     "end_time": "2024-08-12T18:46:15.524046",
     "exception": false,
     "start_time": "2024-08-12T18:46:15.506849",
     "status": "completed"
    },
    "tags": []
   },
   "source": [
    "### 13. Let's plot it\n",
    "When you hover over the points in the plot you will be able to see what is the actual price and what is the predicted price. See below screen shot."
   ]
  },
  {
   "cell_type": "code",
   "execution_count": 19,
   "id": "8f03bda1",
   "metadata": {
    "execution": {
     "iopub.execute_input": "2024-08-12T18:46:15.561551Z",
     "iopub.status.busy": "2024-08-12T18:46:15.561103Z",
     "iopub.status.idle": "2024-08-12T18:46:17.734981Z",
     "shell.execute_reply": "2024-08-12T18:46:17.733268Z"
    },
    "papermill": {
     "duration": 2.196889,
     "end_time": "2024-08-12T18:46:17.738401",
     "exception": false,
     "start_time": "2024-08-12T18:46:15.541512",
     "status": "completed"
    },
    "tags": []
   },
   "outputs": [
    {
     "data": {
      "text/html": [
       "        <script type=\"text/javascript\">\n",
       "        window.PlotlyConfig = {MathJaxConfig: 'local'};\n",
       "        if (window.MathJax && window.MathJax.Hub && window.MathJax.Hub.Config) {window.MathJax.Hub.Config({SVG: {font: \"STIX-Web\"}});}\n",
       "        if (typeof require !== 'undefined') {\n",
       "        require.undef(\"plotly\");\n",
       "        requirejs.config({\n",
       "            paths: {\n",
       "                'plotly': ['https://cdn.plot.ly/plotly-2.27.0.min']\n",
       "            }\n",
       "        });\n",
       "        require(['plotly'], function(Plotly) {\n",
       "            window._Plotly = Plotly;\n",
       "        });\n",
       "        }\n",
       "        </script>\n",
       "        "
      ]
     },
     "metadata": {},
     "output_type": "display_data"
    },
    {
     "data": {
      "text/html": [
       "<div>                            <div id=\"36fb7ed5-a935-4f5d-9613-d8e6c355a016\" class=\"plotly-graph-div\" style=\"height:525px; width:100%;\"></div>            <script type=\"text/javascript\">                require([\"plotly\"], function(Plotly) {                    window.PLOTLYENV=window.PLOTLYENV || {};                                    if (document.getElementById(\"36fb7ed5-a935-4f5d-9613-d8e6c355a016\")) {                    Plotly.newPlot(                        \"36fb7ed5-a935-4f5d-9613-d8e6c355a016\",                        [{\"hovertemplate\":\"Actual Price=%{x}\\u003cbr\\u003ePredicted Price=%{y}\\u003cextra\\u003e\\u003c\\u002fextra\\u003e\",\"legendgroup\":\"\",\"marker\":{\"color\":\"#636efa\",\"symbol\":\"circle\"},\"mode\":\"markers\",\"name\":\"\",\"orientation\":\"v\",\"showlegend\":false,\"x\":[30760.0,17859.167,9549.0,11850.0,28248.0,7799.0,7788.0,9258.0,10198.0,7775.0,13295.0,8238.0,18280.0,9988.0,40960.0,6488.0,5151.0,12629.0,8189.0,9960.0,8495.0,13499.0,8249.0,6479.0,6692.0,41315.0,9639.0,13415.0,7999.0,12940.0,25552.0,6229.0,7898.0,21485.0,7689.0,28176.0,11259.0,10945.0,8916.5,14489.0,7463.0],\"xaxis\":\"x\",\"y\":[36880.0,15998.0,8949.0,12170.0,33900.0,7349.0,7995.0,8358.0,8921.0,7995.0,12170.0,8058.0,12170.0,11248.0,45400.0,6338.0,5399.0,12964.0,6989.0,9095.0,10245.0,14399.0,7349.0,5348.0,7609.0,36880.0,8449.0,16515.0,7349.0,15985.0,33900.0,6229.0,6989.0,19045.0,7957.0,33900.0,15250.0,11845.0,8916.5,14869.0,8949.0],\"yaxis\":\"y\",\"type\":\"scatter\"}],                        {\"template\":{\"data\":{\"histogram2dcontour\":[{\"type\":\"histogram2dcontour\",\"colorbar\":{\"outlinewidth\":0,\"ticks\":\"\"},\"colorscale\":[[0.0,\"#0d0887\"],[0.1111111111111111,\"#46039f\"],[0.2222222222222222,\"#7201a8\"],[0.3333333333333333,\"#9c179e\"],[0.4444444444444444,\"#bd3786\"],[0.5555555555555556,\"#d8576b\"],[0.6666666666666666,\"#ed7953\"],[0.7777777777777778,\"#fb9f3a\"],[0.8888888888888888,\"#fdca26\"],[1.0,\"#f0f921\"]]}],\"choropleth\":[{\"type\":\"choropleth\",\"colorbar\":{\"outlinewidth\":0,\"ticks\":\"\"}}],\"histogram2d\":[{\"type\":\"histogram2d\",\"colorbar\":{\"outlinewidth\":0,\"ticks\":\"\"},\"colorscale\":[[0.0,\"#0d0887\"],[0.1111111111111111,\"#46039f\"],[0.2222222222222222,\"#7201a8\"],[0.3333333333333333,\"#9c179e\"],[0.4444444444444444,\"#bd3786\"],[0.5555555555555556,\"#d8576b\"],[0.6666666666666666,\"#ed7953\"],[0.7777777777777778,\"#fb9f3a\"],[0.8888888888888888,\"#fdca26\"],[1.0,\"#f0f921\"]]}],\"heatmap\":[{\"type\":\"heatmap\",\"colorbar\":{\"outlinewidth\":0,\"ticks\":\"\"},\"colorscale\":[[0.0,\"#0d0887\"],[0.1111111111111111,\"#46039f\"],[0.2222222222222222,\"#7201a8\"],[0.3333333333333333,\"#9c179e\"],[0.4444444444444444,\"#bd3786\"],[0.5555555555555556,\"#d8576b\"],[0.6666666666666666,\"#ed7953\"],[0.7777777777777778,\"#fb9f3a\"],[0.8888888888888888,\"#fdca26\"],[1.0,\"#f0f921\"]]}],\"heatmapgl\":[{\"type\":\"heatmapgl\",\"colorbar\":{\"outlinewidth\":0,\"ticks\":\"\"},\"colorscale\":[[0.0,\"#0d0887\"],[0.1111111111111111,\"#46039f\"],[0.2222222222222222,\"#7201a8\"],[0.3333333333333333,\"#9c179e\"],[0.4444444444444444,\"#bd3786\"],[0.5555555555555556,\"#d8576b\"],[0.6666666666666666,\"#ed7953\"],[0.7777777777777778,\"#fb9f3a\"],[0.8888888888888888,\"#fdca26\"],[1.0,\"#f0f921\"]]}],\"contourcarpet\":[{\"type\":\"contourcarpet\",\"colorbar\":{\"outlinewidth\":0,\"ticks\":\"\"}}],\"contour\":[{\"type\":\"contour\",\"colorbar\":{\"outlinewidth\":0,\"ticks\":\"\"},\"colorscale\":[[0.0,\"#0d0887\"],[0.1111111111111111,\"#46039f\"],[0.2222222222222222,\"#7201a8\"],[0.3333333333333333,\"#9c179e\"],[0.4444444444444444,\"#bd3786\"],[0.5555555555555556,\"#d8576b\"],[0.6666666666666666,\"#ed7953\"],[0.7777777777777778,\"#fb9f3a\"],[0.8888888888888888,\"#fdca26\"],[1.0,\"#f0f921\"]]}],\"surface\":[{\"type\":\"surface\",\"colorbar\":{\"outlinewidth\":0,\"ticks\":\"\"},\"colorscale\":[[0.0,\"#0d0887\"],[0.1111111111111111,\"#46039f\"],[0.2222222222222222,\"#7201a8\"],[0.3333333333333333,\"#9c179e\"],[0.4444444444444444,\"#bd3786\"],[0.5555555555555556,\"#d8576b\"],[0.6666666666666666,\"#ed7953\"],[0.7777777777777778,\"#fb9f3a\"],[0.8888888888888888,\"#fdca26\"],[1.0,\"#f0f921\"]]}],\"mesh3d\":[{\"type\":\"mesh3d\",\"colorbar\":{\"outlinewidth\":0,\"ticks\":\"\"}}],\"scatter\":[{\"fillpattern\":{\"fillmode\":\"overlay\",\"size\":10,\"solidity\":0.2},\"type\":\"scatter\"}],\"parcoords\":[{\"type\":\"parcoords\",\"line\":{\"colorbar\":{\"outlinewidth\":0,\"ticks\":\"\"}}}],\"scatterpolargl\":[{\"type\":\"scatterpolargl\",\"marker\":{\"colorbar\":{\"outlinewidth\":0,\"ticks\":\"\"}}}],\"bar\":[{\"error_x\":{\"color\":\"#2a3f5f\"},\"error_y\":{\"color\":\"#2a3f5f\"},\"marker\":{\"line\":{\"color\":\"#E5ECF6\",\"width\":0.5},\"pattern\":{\"fillmode\":\"overlay\",\"size\":10,\"solidity\":0.2}},\"type\":\"bar\"}],\"scattergeo\":[{\"type\":\"scattergeo\",\"marker\":{\"colorbar\":{\"outlinewidth\":0,\"ticks\":\"\"}}}],\"scatterpolar\":[{\"type\":\"scatterpolar\",\"marker\":{\"colorbar\":{\"outlinewidth\":0,\"ticks\":\"\"}}}],\"histogram\":[{\"marker\":{\"pattern\":{\"fillmode\":\"overlay\",\"size\":10,\"solidity\":0.2}},\"type\":\"histogram\"}],\"scattergl\":[{\"type\":\"scattergl\",\"marker\":{\"colorbar\":{\"outlinewidth\":0,\"ticks\":\"\"}}}],\"scatter3d\":[{\"type\":\"scatter3d\",\"line\":{\"colorbar\":{\"outlinewidth\":0,\"ticks\":\"\"}},\"marker\":{\"colorbar\":{\"outlinewidth\":0,\"ticks\":\"\"}}}],\"scattermapbox\":[{\"type\":\"scattermapbox\",\"marker\":{\"colorbar\":{\"outlinewidth\":0,\"ticks\":\"\"}}}],\"scatterternary\":[{\"type\":\"scatterternary\",\"marker\":{\"colorbar\":{\"outlinewidth\":0,\"ticks\":\"\"}}}],\"scattercarpet\":[{\"type\":\"scattercarpet\",\"marker\":{\"colorbar\":{\"outlinewidth\":0,\"ticks\":\"\"}}}],\"carpet\":[{\"aaxis\":{\"endlinecolor\":\"#2a3f5f\",\"gridcolor\":\"white\",\"linecolor\":\"white\",\"minorgridcolor\":\"white\",\"startlinecolor\":\"#2a3f5f\"},\"baxis\":{\"endlinecolor\":\"#2a3f5f\",\"gridcolor\":\"white\",\"linecolor\":\"white\",\"minorgridcolor\":\"white\",\"startlinecolor\":\"#2a3f5f\"},\"type\":\"carpet\"}],\"table\":[{\"cells\":{\"fill\":{\"color\":\"#EBF0F8\"},\"line\":{\"color\":\"white\"}},\"header\":{\"fill\":{\"color\":\"#C8D4E3\"},\"line\":{\"color\":\"white\"}},\"type\":\"table\"}],\"barpolar\":[{\"marker\":{\"line\":{\"color\":\"#E5ECF6\",\"width\":0.5},\"pattern\":{\"fillmode\":\"overlay\",\"size\":10,\"solidity\":0.2}},\"type\":\"barpolar\"}],\"pie\":[{\"automargin\":true,\"type\":\"pie\"}]},\"layout\":{\"autotypenumbers\":\"strict\",\"colorway\":[\"#636efa\",\"#EF553B\",\"#00cc96\",\"#ab63fa\",\"#FFA15A\",\"#19d3f3\",\"#FF6692\",\"#B6E880\",\"#FF97FF\",\"#FECB52\"],\"font\":{\"color\":\"#2a3f5f\"},\"hovermode\":\"closest\",\"hoverlabel\":{\"align\":\"left\"},\"paper_bgcolor\":\"white\",\"plot_bgcolor\":\"#E5ECF6\",\"polar\":{\"bgcolor\":\"#E5ECF6\",\"angularaxis\":{\"gridcolor\":\"white\",\"linecolor\":\"white\",\"ticks\":\"\"},\"radialaxis\":{\"gridcolor\":\"white\",\"linecolor\":\"white\",\"ticks\":\"\"}},\"ternary\":{\"bgcolor\":\"#E5ECF6\",\"aaxis\":{\"gridcolor\":\"white\",\"linecolor\":\"white\",\"ticks\":\"\"},\"baxis\":{\"gridcolor\":\"white\",\"linecolor\":\"white\",\"ticks\":\"\"},\"caxis\":{\"gridcolor\":\"white\",\"linecolor\":\"white\",\"ticks\":\"\"}},\"coloraxis\":{\"colorbar\":{\"outlinewidth\":0,\"ticks\":\"\"}},\"colorscale\":{\"sequential\":[[0.0,\"#0d0887\"],[0.1111111111111111,\"#46039f\"],[0.2222222222222222,\"#7201a8\"],[0.3333333333333333,\"#9c179e\"],[0.4444444444444444,\"#bd3786\"],[0.5555555555555556,\"#d8576b\"],[0.6666666666666666,\"#ed7953\"],[0.7777777777777778,\"#fb9f3a\"],[0.8888888888888888,\"#fdca26\"],[1.0,\"#f0f921\"]],\"sequentialminus\":[[0.0,\"#0d0887\"],[0.1111111111111111,\"#46039f\"],[0.2222222222222222,\"#7201a8\"],[0.3333333333333333,\"#9c179e\"],[0.4444444444444444,\"#bd3786\"],[0.5555555555555556,\"#d8576b\"],[0.6666666666666666,\"#ed7953\"],[0.7777777777777778,\"#fb9f3a\"],[0.8888888888888888,\"#fdca26\"],[1.0,\"#f0f921\"]],\"diverging\":[[0,\"#8e0152\"],[0.1,\"#c51b7d\"],[0.2,\"#de77ae\"],[0.3,\"#f1b6da\"],[0.4,\"#fde0ef\"],[0.5,\"#f7f7f7\"],[0.6,\"#e6f5d0\"],[0.7,\"#b8e186\"],[0.8,\"#7fbc41\"],[0.9,\"#4d9221\"],[1,\"#276419\"]]},\"xaxis\":{\"gridcolor\":\"white\",\"linecolor\":\"white\",\"ticks\":\"\",\"title\":{\"standoff\":15},\"zerolinecolor\":\"white\",\"automargin\":true,\"zerolinewidth\":2},\"yaxis\":{\"gridcolor\":\"white\",\"linecolor\":\"white\",\"ticks\":\"\",\"title\":{\"standoff\":15},\"zerolinecolor\":\"white\",\"automargin\":true,\"zerolinewidth\":2},\"scene\":{\"xaxis\":{\"backgroundcolor\":\"#E5ECF6\",\"gridcolor\":\"white\",\"linecolor\":\"white\",\"showbackground\":true,\"ticks\":\"\",\"zerolinecolor\":\"white\",\"gridwidth\":2},\"yaxis\":{\"backgroundcolor\":\"#E5ECF6\",\"gridcolor\":\"white\",\"linecolor\":\"white\",\"showbackground\":true,\"ticks\":\"\",\"zerolinecolor\":\"white\",\"gridwidth\":2},\"zaxis\":{\"backgroundcolor\":\"#E5ECF6\",\"gridcolor\":\"white\",\"linecolor\":\"white\",\"showbackground\":true,\"ticks\":\"\",\"zerolinecolor\":\"white\",\"gridwidth\":2}},\"shapedefaults\":{\"line\":{\"color\":\"#2a3f5f\"}},\"annotationdefaults\":{\"arrowcolor\":\"#2a3f5f\",\"arrowhead\":0,\"arrowwidth\":1},\"geo\":{\"bgcolor\":\"white\",\"landcolor\":\"#E5ECF6\",\"subunitcolor\":\"white\",\"showland\":true,\"showlakes\":true,\"lakecolor\":\"white\"},\"title\":{\"x\":0.05},\"mapbox\":{\"style\":\"light\"}}},\"xaxis\":{\"anchor\":\"y\",\"domain\":[0.0,1.0],\"title\":{\"text\":\"Actual Price\"}},\"yaxis\":{\"anchor\":\"x\",\"domain\":[0.0,1.0],\"title\":{\"text\":\"Predicted Price\"}},\"legend\":{\"tracegroupgap\":0},\"title\":{\"text\":\"Decision Tree Regressor model Predictions\"}},                        {\"responsive\": true}                    ).then(function(){\n",
       "                            \n",
       "var gd = document.getElementById('36fb7ed5-a935-4f5d-9613-d8e6c355a016');\n",
       "var x = new MutationObserver(function (mutations, observer) {{\n",
       "        var display = window.getComputedStyle(gd).display;\n",
       "        if (!display || display === 'none') {{\n",
       "            console.log([gd, 'removed!']);\n",
       "            Plotly.purge(gd);\n",
       "            observer.disconnect();\n",
       "        }}\n",
       "}});\n",
       "\n",
       "// Listen for the removal of the full notebook cells\n",
       "var notebookContainer = gd.closest('#notebook-container');\n",
       "if (notebookContainer) {{\n",
       "    x.observe(notebookContainer, {childList: true});\n",
       "}}\n",
       "\n",
       "// Listen for the clearing of the current output cell\n",
       "var outputEl = gd.closest('.output');\n",
       "if (outputEl) {{\n",
       "    x.observe(outputEl, {childList: true});\n",
       "}}\n",
       "\n",
       "                        })                };                });            </script>        </div>"
      ]
     },
     "metadata": {},
     "output_type": "display_data"
    }
   ],
   "source": [
    "fig = px.scatter(x=y_test, y=dtr_prediction, labels={'x': 'Actual Price', 'y': 'Predicted Price'}, title='Decision Tree Regressor model Predictions' )\n",
    "fig.show()"
   ]
  },
  {
   "cell_type": "markdown",
   "id": "be139260",
   "metadata": {
    "papermill": {
     "duration": 0.018499,
     "end_time": "2024-08-12T18:46:17.775826",
     "exception": false,
     "start_time": "2024-08-12T18:46:17.757327",
     "status": "completed"
    },
    "tags": []
   },
   "source": [
    "### 14. Random Forest Regressor"
   ]
  },
  {
   "cell_type": "code",
   "execution_count": 20,
   "id": "ad80e088",
   "metadata": {
    "execution": {
     "iopub.execute_input": "2024-08-12T18:46:17.813792Z",
     "iopub.status.busy": "2024-08-12T18:46:17.813320Z",
     "iopub.status.idle": "2024-08-12T18:46:18.141306Z",
     "shell.execute_reply": "2024-08-12T18:46:18.139808Z"
    },
    "papermill": {
     "duration": 0.350525,
     "end_time": "2024-08-12T18:46:18.144282",
     "exception": false,
     "start_time": "2024-08-12T18:46:17.793757",
     "status": "completed"
    },
    "tags": []
   },
   "outputs": [
    {
     "name": "stdout",
     "output_type": "stream",
     "text": [
      "The Mse is: 1289.269869918699\n",
      "\n",
      " The r2_score is: 0.9584426575910973\n"
     ]
    }
   ],
   "source": [
    "rfr = RandomForestRegressor()\n",
    "rfr.fit(X_train, y_train)\n",
    "rfr_prediction = rfr.predict(X_test)\n",
    "\n",
    "#Checking the metrics\n",
    "rfr_mae = mean_absolute_error(y_test, rfr_prediction)\n",
    "print(f\"The Mse is: {rfr_mae}\")\n",
    "\n",
    "rfr_r2 = r2_score(y_test, rfr_prediction)\n",
    "print(f\"\\n The r2_score is: {rfr_r2}\")"
   ]
  },
  {
   "cell_type": "markdown",
   "id": "74788d77",
   "metadata": {
    "papermill": {
     "duration": 0.018975,
     "end_time": "2024-08-12T18:46:18.182768",
     "exception": false,
     "start_time": "2024-08-12T18:46:18.163793",
     "status": "completed"
    },
    "tags": []
   },
   "source": [
    "### 15. Let's plot and see if it is better"
   ]
  },
  {
   "cell_type": "code",
   "execution_count": 21,
   "id": "2362db29",
   "metadata": {
    "execution": {
     "iopub.execute_input": "2024-08-12T18:46:18.222819Z",
     "iopub.status.busy": "2024-08-12T18:46:18.221291Z",
     "iopub.status.idle": "2024-08-12T18:46:18.296339Z",
     "shell.execute_reply": "2024-08-12T18:46:18.294941Z"
    },
    "papermill": {
     "duration": 0.097049,
     "end_time": "2024-08-12T18:46:18.299366",
     "exception": false,
     "start_time": "2024-08-12T18:46:18.202317",
     "status": "completed"
    },
    "tags": []
   },
   "outputs": [
    {
     "data": {
      "text/html": [
       "<div>                            <div id=\"a5d559bd-61ed-4bbc-aaba-4101c8841a63\" class=\"plotly-graph-div\" style=\"height:525px; width:100%;\"></div>            <script type=\"text/javascript\">                require([\"plotly\"], function(Plotly) {                    window.PLOTLYENV=window.PLOTLYENV || {};                                    if (document.getElementById(\"a5d559bd-61ed-4bbc-aaba-4101c8841a63\")) {                    Plotly.newPlot(                        \"a5d559bd-61ed-4bbc-aaba-4101c8841a63\",                        [{\"hovertemplate\":\"Actual Price=%{x}\\u003cbr\\u003ePredicted Price=%{y}\\u003cextra\\u003e\\u003c\\u002fextra\\u003e\",\"legendgroup\":\"\",\"marker\":{\"color\":\"#636efa\",\"symbol\":\"circle\"},\"mode\":\"markers\",\"name\":\"\",\"orientation\":\"v\",\"showlegend\":false,\"x\":[30760.0,17859.167,9549.0,11850.0,28248.0,7799.0,7788.0,9258.0,10198.0,7775.0,13295.0,8238.0,18280.0,9988.0,40960.0,6488.0,5151.0,12629.0,8189.0,9960.0,8495.0,13499.0,8249.0,6479.0,6692.0,41315.0,9639.0,13415.0,7999.0,12940.0,25552.0,6229.0,7898.0,21485.0,7689.0,28176.0,11259.0,10945.0,8916.5,14489.0,7463.0],\"xaxis\":\"x\",\"y\":[35892.255,18235.25,8985.13,13420.19,26970.22,6863.07,8044.44,8017.24,9727.52,8191.23,14281.17,7809.39,14209.115,11177.6,40273.525,6563.05,5788.65,13907.17,8455.281666666668,9250.75,10408.73,15332.66,6800.77,5843.17,7294.71,35917.885,9454.1,16604.7,7034.69,16413.53,27477.905,6496.23,7931.66,19195.63,8039.98,27163.95,10608.095,12512.475,7426.135,14547.72,8464.53],\"yaxis\":\"y\",\"type\":\"scatter\"}],                        {\"template\":{\"data\":{\"histogram2dcontour\":[{\"type\":\"histogram2dcontour\",\"colorbar\":{\"outlinewidth\":0,\"ticks\":\"\"},\"colorscale\":[[0.0,\"#0d0887\"],[0.1111111111111111,\"#46039f\"],[0.2222222222222222,\"#7201a8\"],[0.3333333333333333,\"#9c179e\"],[0.4444444444444444,\"#bd3786\"],[0.5555555555555556,\"#d8576b\"],[0.6666666666666666,\"#ed7953\"],[0.7777777777777778,\"#fb9f3a\"],[0.8888888888888888,\"#fdca26\"],[1.0,\"#f0f921\"]]}],\"choropleth\":[{\"type\":\"choropleth\",\"colorbar\":{\"outlinewidth\":0,\"ticks\":\"\"}}],\"histogram2d\":[{\"type\":\"histogram2d\",\"colorbar\":{\"outlinewidth\":0,\"ticks\":\"\"},\"colorscale\":[[0.0,\"#0d0887\"],[0.1111111111111111,\"#46039f\"],[0.2222222222222222,\"#7201a8\"],[0.3333333333333333,\"#9c179e\"],[0.4444444444444444,\"#bd3786\"],[0.5555555555555556,\"#d8576b\"],[0.6666666666666666,\"#ed7953\"],[0.7777777777777778,\"#fb9f3a\"],[0.8888888888888888,\"#fdca26\"],[1.0,\"#f0f921\"]]}],\"heatmap\":[{\"type\":\"heatmap\",\"colorbar\":{\"outlinewidth\":0,\"ticks\":\"\"},\"colorscale\":[[0.0,\"#0d0887\"],[0.1111111111111111,\"#46039f\"],[0.2222222222222222,\"#7201a8\"],[0.3333333333333333,\"#9c179e\"],[0.4444444444444444,\"#bd3786\"],[0.5555555555555556,\"#d8576b\"],[0.6666666666666666,\"#ed7953\"],[0.7777777777777778,\"#fb9f3a\"],[0.8888888888888888,\"#fdca26\"],[1.0,\"#f0f921\"]]}],\"heatmapgl\":[{\"type\":\"heatmapgl\",\"colorbar\":{\"outlinewidth\":0,\"ticks\":\"\"},\"colorscale\":[[0.0,\"#0d0887\"],[0.1111111111111111,\"#46039f\"],[0.2222222222222222,\"#7201a8\"],[0.3333333333333333,\"#9c179e\"],[0.4444444444444444,\"#bd3786\"],[0.5555555555555556,\"#d8576b\"],[0.6666666666666666,\"#ed7953\"],[0.7777777777777778,\"#fb9f3a\"],[0.8888888888888888,\"#fdca26\"],[1.0,\"#f0f921\"]]}],\"contourcarpet\":[{\"type\":\"contourcarpet\",\"colorbar\":{\"outlinewidth\":0,\"ticks\":\"\"}}],\"contour\":[{\"type\":\"contour\",\"colorbar\":{\"outlinewidth\":0,\"ticks\":\"\"},\"colorscale\":[[0.0,\"#0d0887\"],[0.1111111111111111,\"#46039f\"],[0.2222222222222222,\"#7201a8\"],[0.3333333333333333,\"#9c179e\"],[0.4444444444444444,\"#bd3786\"],[0.5555555555555556,\"#d8576b\"],[0.6666666666666666,\"#ed7953\"],[0.7777777777777778,\"#fb9f3a\"],[0.8888888888888888,\"#fdca26\"],[1.0,\"#f0f921\"]]}],\"surface\":[{\"type\":\"surface\",\"colorbar\":{\"outlinewidth\":0,\"ticks\":\"\"},\"colorscale\":[[0.0,\"#0d0887\"],[0.1111111111111111,\"#46039f\"],[0.2222222222222222,\"#7201a8\"],[0.3333333333333333,\"#9c179e\"],[0.4444444444444444,\"#bd3786\"],[0.5555555555555556,\"#d8576b\"],[0.6666666666666666,\"#ed7953\"],[0.7777777777777778,\"#fb9f3a\"],[0.8888888888888888,\"#fdca26\"],[1.0,\"#f0f921\"]]}],\"mesh3d\":[{\"type\":\"mesh3d\",\"colorbar\":{\"outlinewidth\":0,\"ticks\":\"\"}}],\"scatter\":[{\"fillpattern\":{\"fillmode\":\"overlay\",\"size\":10,\"solidity\":0.2},\"type\":\"scatter\"}],\"parcoords\":[{\"type\":\"parcoords\",\"line\":{\"colorbar\":{\"outlinewidth\":0,\"ticks\":\"\"}}}],\"scatterpolargl\":[{\"type\":\"scatterpolargl\",\"marker\":{\"colorbar\":{\"outlinewidth\":0,\"ticks\":\"\"}}}],\"bar\":[{\"error_x\":{\"color\":\"#2a3f5f\"},\"error_y\":{\"color\":\"#2a3f5f\"},\"marker\":{\"line\":{\"color\":\"#E5ECF6\",\"width\":0.5},\"pattern\":{\"fillmode\":\"overlay\",\"size\":10,\"solidity\":0.2}},\"type\":\"bar\"}],\"scattergeo\":[{\"type\":\"scattergeo\",\"marker\":{\"colorbar\":{\"outlinewidth\":0,\"ticks\":\"\"}}}],\"scatterpolar\":[{\"type\":\"scatterpolar\",\"marker\":{\"colorbar\":{\"outlinewidth\":0,\"ticks\":\"\"}}}],\"histogram\":[{\"marker\":{\"pattern\":{\"fillmode\":\"overlay\",\"size\":10,\"solidity\":0.2}},\"type\":\"histogram\"}],\"scattergl\":[{\"type\":\"scattergl\",\"marker\":{\"colorbar\":{\"outlinewidth\":0,\"ticks\":\"\"}}}],\"scatter3d\":[{\"type\":\"scatter3d\",\"line\":{\"colorbar\":{\"outlinewidth\":0,\"ticks\":\"\"}},\"marker\":{\"colorbar\":{\"outlinewidth\":0,\"ticks\":\"\"}}}],\"scattermapbox\":[{\"type\":\"scattermapbox\",\"marker\":{\"colorbar\":{\"outlinewidth\":0,\"ticks\":\"\"}}}],\"scatterternary\":[{\"type\":\"scatterternary\",\"marker\":{\"colorbar\":{\"outlinewidth\":0,\"ticks\":\"\"}}}],\"scattercarpet\":[{\"type\":\"scattercarpet\",\"marker\":{\"colorbar\":{\"outlinewidth\":0,\"ticks\":\"\"}}}],\"carpet\":[{\"aaxis\":{\"endlinecolor\":\"#2a3f5f\",\"gridcolor\":\"white\",\"linecolor\":\"white\",\"minorgridcolor\":\"white\",\"startlinecolor\":\"#2a3f5f\"},\"baxis\":{\"endlinecolor\":\"#2a3f5f\",\"gridcolor\":\"white\",\"linecolor\":\"white\",\"minorgridcolor\":\"white\",\"startlinecolor\":\"#2a3f5f\"},\"type\":\"carpet\"}],\"table\":[{\"cells\":{\"fill\":{\"color\":\"#EBF0F8\"},\"line\":{\"color\":\"white\"}},\"header\":{\"fill\":{\"color\":\"#C8D4E3\"},\"line\":{\"color\":\"white\"}},\"type\":\"table\"}],\"barpolar\":[{\"marker\":{\"line\":{\"color\":\"#E5ECF6\",\"width\":0.5},\"pattern\":{\"fillmode\":\"overlay\",\"size\":10,\"solidity\":0.2}},\"type\":\"barpolar\"}],\"pie\":[{\"automargin\":true,\"type\":\"pie\"}]},\"layout\":{\"autotypenumbers\":\"strict\",\"colorway\":[\"#636efa\",\"#EF553B\",\"#00cc96\",\"#ab63fa\",\"#FFA15A\",\"#19d3f3\",\"#FF6692\",\"#B6E880\",\"#FF97FF\",\"#FECB52\"],\"font\":{\"color\":\"#2a3f5f\"},\"hovermode\":\"closest\",\"hoverlabel\":{\"align\":\"left\"},\"paper_bgcolor\":\"white\",\"plot_bgcolor\":\"#E5ECF6\",\"polar\":{\"bgcolor\":\"#E5ECF6\",\"angularaxis\":{\"gridcolor\":\"white\",\"linecolor\":\"white\",\"ticks\":\"\"},\"radialaxis\":{\"gridcolor\":\"white\",\"linecolor\":\"white\",\"ticks\":\"\"}},\"ternary\":{\"bgcolor\":\"#E5ECF6\",\"aaxis\":{\"gridcolor\":\"white\",\"linecolor\":\"white\",\"ticks\":\"\"},\"baxis\":{\"gridcolor\":\"white\",\"linecolor\":\"white\",\"ticks\":\"\"},\"caxis\":{\"gridcolor\":\"white\",\"linecolor\":\"white\",\"ticks\":\"\"}},\"coloraxis\":{\"colorbar\":{\"outlinewidth\":0,\"ticks\":\"\"}},\"colorscale\":{\"sequential\":[[0.0,\"#0d0887\"],[0.1111111111111111,\"#46039f\"],[0.2222222222222222,\"#7201a8\"],[0.3333333333333333,\"#9c179e\"],[0.4444444444444444,\"#bd3786\"],[0.5555555555555556,\"#d8576b\"],[0.6666666666666666,\"#ed7953\"],[0.7777777777777778,\"#fb9f3a\"],[0.8888888888888888,\"#fdca26\"],[1.0,\"#f0f921\"]],\"sequentialminus\":[[0.0,\"#0d0887\"],[0.1111111111111111,\"#46039f\"],[0.2222222222222222,\"#7201a8\"],[0.3333333333333333,\"#9c179e\"],[0.4444444444444444,\"#bd3786\"],[0.5555555555555556,\"#d8576b\"],[0.6666666666666666,\"#ed7953\"],[0.7777777777777778,\"#fb9f3a\"],[0.8888888888888888,\"#fdca26\"],[1.0,\"#f0f921\"]],\"diverging\":[[0,\"#8e0152\"],[0.1,\"#c51b7d\"],[0.2,\"#de77ae\"],[0.3,\"#f1b6da\"],[0.4,\"#fde0ef\"],[0.5,\"#f7f7f7\"],[0.6,\"#e6f5d0\"],[0.7,\"#b8e186\"],[0.8,\"#7fbc41\"],[0.9,\"#4d9221\"],[1,\"#276419\"]]},\"xaxis\":{\"gridcolor\":\"white\",\"linecolor\":\"white\",\"ticks\":\"\",\"title\":{\"standoff\":15},\"zerolinecolor\":\"white\",\"automargin\":true,\"zerolinewidth\":2},\"yaxis\":{\"gridcolor\":\"white\",\"linecolor\":\"white\",\"ticks\":\"\",\"title\":{\"standoff\":15},\"zerolinecolor\":\"white\",\"automargin\":true,\"zerolinewidth\":2},\"scene\":{\"xaxis\":{\"backgroundcolor\":\"#E5ECF6\",\"gridcolor\":\"white\",\"linecolor\":\"white\",\"showbackground\":true,\"ticks\":\"\",\"zerolinecolor\":\"white\",\"gridwidth\":2},\"yaxis\":{\"backgroundcolor\":\"#E5ECF6\",\"gridcolor\":\"white\",\"linecolor\":\"white\",\"showbackground\":true,\"ticks\":\"\",\"zerolinecolor\":\"white\",\"gridwidth\":2},\"zaxis\":{\"backgroundcolor\":\"#E5ECF6\",\"gridcolor\":\"white\",\"linecolor\":\"white\",\"showbackground\":true,\"ticks\":\"\",\"zerolinecolor\":\"white\",\"gridwidth\":2}},\"shapedefaults\":{\"line\":{\"color\":\"#2a3f5f\"}},\"annotationdefaults\":{\"arrowcolor\":\"#2a3f5f\",\"arrowhead\":0,\"arrowwidth\":1},\"geo\":{\"bgcolor\":\"white\",\"landcolor\":\"#E5ECF6\",\"subunitcolor\":\"white\",\"showland\":true,\"showlakes\":true,\"lakecolor\":\"white\"},\"title\":{\"x\":0.05},\"mapbox\":{\"style\":\"light\"}}},\"xaxis\":{\"anchor\":\"y\",\"domain\":[0.0,1.0],\"title\":{\"text\":\"Actual Price\"}},\"yaxis\":{\"anchor\":\"x\",\"domain\":[0.0,1.0],\"title\":{\"text\":\"Predicted Price\"}},\"legend\":{\"tracegroupgap\":0},\"title\":{\"text\":\"Random Forest Regressor model Predictions\"}},                        {\"responsive\": true}                    ).then(function(){\n",
       "                            \n",
       "var gd = document.getElementById('a5d559bd-61ed-4bbc-aaba-4101c8841a63');\n",
       "var x = new MutationObserver(function (mutations, observer) {{\n",
       "        var display = window.getComputedStyle(gd).display;\n",
       "        if (!display || display === 'none') {{\n",
       "            console.log([gd, 'removed!']);\n",
       "            Plotly.purge(gd);\n",
       "            observer.disconnect();\n",
       "        }}\n",
       "}});\n",
       "\n",
       "// Listen for the removal of the full notebook cells\n",
       "var notebookContainer = gd.closest('#notebook-container');\n",
       "if (notebookContainer) {{\n",
       "    x.observe(notebookContainer, {childList: true});\n",
       "}}\n",
       "\n",
       "// Listen for the clearing of the current output cell\n",
       "var outputEl = gd.closest('.output');\n",
       "if (outputEl) {{\n",
       "    x.observe(outputEl, {childList: true});\n",
       "}}\n",
       "\n",
       "                        })                };                });            </script>        </div>"
      ]
     },
     "metadata": {},
     "output_type": "display_data"
    }
   ],
   "source": [
    "fig = px.scatter(x=y_test, y=rfr_prediction, labels={'x': 'Actual Price', 'y': 'Predicted Price'}, title='Random Forest Regressor model Predictions' )\n",
    "fig.show()"
   ]
  },
  {
   "cell_type": "markdown",
   "id": "0b6693e7",
   "metadata": {
    "papermill": {
     "duration": 0.018596,
     "end_time": "2024-08-12T18:46:18.336652",
     "exception": false,
     "start_time": "2024-08-12T18:46:18.318056",
     "status": "completed"
    },
    "tags": []
   },
   "source": [
    "### 16. Let's use XGboost and plot to see the results"
   ]
  },
  {
   "cell_type": "code",
   "execution_count": 22,
   "id": "fb399f73",
   "metadata": {
    "execution": {
     "iopub.execute_input": "2024-08-12T18:46:18.377263Z",
     "iopub.status.busy": "2024-08-12T18:46:18.376750Z",
     "iopub.status.idle": "2024-08-12T18:46:18.542438Z",
     "shell.execute_reply": "2024-08-12T18:46:18.541202Z"
    },
    "papermill": {
     "duration": 0.189003,
     "end_time": "2024-08-12T18:46:18.545710",
     "exception": false,
     "start_time": "2024-08-12T18:46:18.356707",
     "status": "completed"
    },
    "tags": []
   },
   "outputs": [
    {
     "name": "stdout",
     "output_type": "stream",
     "text": [
      "The Mse is: 1491.6630980373475\n",
      "\n",
      " The r2_score is: 0.9392755986153932\n"
     ]
    }
   ],
   "source": [
    "xgb = XGBRegressor()\n",
    "xgb.fit(X_train, y_train)\n",
    "xgb_prediction = xgb.predict(X_test)\n",
    "\n",
    "#Checking the metrics\n",
    "xgb_mae = mean_absolute_error(y_test, xgb_prediction)\n",
    "print(f\"The Mse is: {xgb_mae}\")\n",
    "\n",
    "xgb_r2 = r2_score(y_test, xgb_prediction)\n",
    "print(f\"\\n The r2_score is: {xgb_r2}\")"
   ]
  },
  {
   "cell_type": "code",
   "execution_count": 23,
   "id": "3f38da82",
   "metadata": {
    "execution": {
     "iopub.execute_input": "2024-08-12T18:46:18.587946Z",
     "iopub.status.busy": "2024-08-12T18:46:18.586955Z",
     "iopub.status.idle": "2024-08-12T18:46:18.663273Z",
     "shell.execute_reply": "2024-08-12T18:46:18.661907Z"
    },
    "papermill": {
     "duration": 0.099527,
     "end_time": "2024-08-12T18:46:18.666064",
     "exception": false,
     "start_time": "2024-08-12T18:46:18.566537",
     "status": "completed"
    },
    "tags": []
   },
   "outputs": [
    {
     "data": {
      "text/html": [
       "<div>                            <div id=\"da50db0f-d028-4c95-9c2d-ca1a88fa2a1e\" class=\"plotly-graph-div\" style=\"height:525px; width:100%;\"></div>            <script type=\"text/javascript\">                require([\"plotly\"], function(Plotly) {                    window.PLOTLYENV=window.PLOTLYENV || {};                                    if (document.getElementById(\"da50db0f-d028-4c95-9c2d-ca1a88fa2a1e\")) {                    Plotly.newPlot(                        \"da50db0f-d028-4c95-9c2d-ca1a88fa2a1e\",                        [{\"hovertemplate\":\"Actual Price=%{x}\\u003cbr\\u003ePredicted Price=%{y}\\u003cextra\\u003e\\u003c\\u002fextra\\u003e\",\"legendgroup\":\"\",\"marker\":{\"color\":\"#636efa\",\"symbol\":\"circle\"},\"mode\":\"markers\",\"name\":\"\",\"orientation\":\"v\",\"showlegend\":false,\"x\":[30760.0,17859.167,9549.0,11850.0,28248.0,7799.0,7788.0,9258.0,10198.0,7775.0,13295.0,8238.0,18280.0,9988.0,40960.0,6488.0,5151.0,12629.0,8189.0,9960.0,8495.0,13499.0,8249.0,6479.0,6692.0,41315.0,9639.0,13415.0,7999.0,12940.0,25552.0,6229.0,7898.0,21485.0,7689.0,28176.0,11259.0,10945.0,8916.5,14489.0,7463.0],\"xaxis\":\"x\",\"y\":[36892.36,17725.58,8933.867,13223.947,31366.904,6708.5005,7622.0493,7940.796,9075.893,7979.5327,14654.846,8071.3447,13864.121,11278.0625,45297.953,6522.777,5283.675,14221.278,8466.782,9218.766,10261.668,13936.31,7093.1963,5853.896,7593.84,36826.453,8467.159,16219.418,7348.84,15978.067,31754.738,6236.4507,7406.197,19844.084,8006.0713,31201.396,11377.942,11858.803,7978.259,14863.826,7926.873],\"yaxis\":\"y\",\"type\":\"scatter\"}],                        {\"template\":{\"data\":{\"histogram2dcontour\":[{\"type\":\"histogram2dcontour\",\"colorbar\":{\"outlinewidth\":0,\"ticks\":\"\"},\"colorscale\":[[0.0,\"#0d0887\"],[0.1111111111111111,\"#46039f\"],[0.2222222222222222,\"#7201a8\"],[0.3333333333333333,\"#9c179e\"],[0.4444444444444444,\"#bd3786\"],[0.5555555555555556,\"#d8576b\"],[0.6666666666666666,\"#ed7953\"],[0.7777777777777778,\"#fb9f3a\"],[0.8888888888888888,\"#fdca26\"],[1.0,\"#f0f921\"]]}],\"choropleth\":[{\"type\":\"choropleth\",\"colorbar\":{\"outlinewidth\":0,\"ticks\":\"\"}}],\"histogram2d\":[{\"type\":\"histogram2d\",\"colorbar\":{\"outlinewidth\":0,\"ticks\":\"\"},\"colorscale\":[[0.0,\"#0d0887\"],[0.1111111111111111,\"#46039f\"],[0.2222222222222222,\"#7201a8\"],[0.3333333333333333,\"#9c179e\"],[0.4444444444444444,\"#bd3786\"],[0.5555555555555556,\"#d8576b\"],[0.6666666666666666,\"#ed7953\"],[0.7777777777777778,\"#fb9f3a\"],[0.8888888888888888,\"#fdca26\"],[1.0,\"#f0f921\"]]}],\"heatmap\":[{\"type\":\"heatmap\",\"colorbar\":{\"outlinewidth\":0,\"ticks\":\"\"},\"colorscale\":[[0.0,\"#0d0887\"],[0.1111111111111111,\"#46039f\"],[0.2222222222222222,\"#7201a8\"],[0.3333333333333333,\"#9c179e\"],[0.4444444444444444,\"#bd3786\"],[0.5555555555555556,\"#d8576b\"],[0.6666666666666666,\"#ed7953\"],[0.7777777777777778,\"#fb9f3a\"],[0.8888888888888888,\"#fdca26\"],[1.0,\"#f0f921\"]]}],\"heatmapgl\":[{\"type\":\"heatmapgl\",\"colorbar\":{\"outlinewidth\":0,\"ticks\":\"\"},\"colorscale\":[[0.0,\"#0d0887\"],[0.1111111111111111,\"#46039f\"],[0.2222222222222222,\"#7201a8\"],[0.3333333333333333,\"#9c179e\"],[0.4444444444444444,\"#bd3786\"],[0.5555555555555556,\"#d8576b\"],[0.6666666666666666,\"#ed7953\"],[0.7777777777777778,\"#fb9f3a\"],[0.8888888888888888,\"#fdca26\"],[1.0,\"#f0f921\"]]}],\"contourcarpet\":[{\"type\":\"contourcarpet\",\"colorbar\":{\"outlinewidth\":0,\"ticks\":\"\"}}],\"contour\":[{\"type\":\"contour\",\"colorbar\":{\"outlinewidth\":0,\"ticks\":\"\"},\"colorscale\":[[0.0,\"#0d0887\"],[0.1111111111111111,\"#46039f\"],[0.2222222222222222,\"#7201a8\"],[0.3333333333333333,\"#9c179e\"],[0.4444444444444444,\"#bd3786\"],[0.5555555555555556,\"#d8576b\"],[0.6666666666666666,\"#ed7953\"],[0.7777777777777778,\"#fb9f3a\"],[0.8888888888888888,\"#fdca26\"],[1.0,\"#f0f921\"]]}],\"surface\":[{\"type\":\"surface\",\"colorbar\":{\"outlinewidth\":0,\"ticks\":\"\"},\"colorscale\":[[0.0,\"#0d0887\"],[0.1111111111111111,\"#46039f\"],[0.2222222222222222,\"#7201a8\"],[0.3333333333333333,\"#9c179e\"],[0.4444444444444444,\"#bd3786\"],[0.5555555555555556,\"#d8576b\"],[0.6666666666666666,\"#ed7953\"],[0.7777777777777778,\"#fb9f3a\"],[0.8888888888888888,\"#fdca26\"],[1.0,\"#f0f921\"]]}],\"mesh3d\":[{\"type\":\"mesh3d\",\"colorbar\":{\"outlinewidth\":0,\"ticks\":\"\"}}],\"scatter\":[{\"fillpattern\":{\"fillmode\":\"overlay\",\"size\":10,\"solidity\":0.2},\"type\":\"scatter\"}],\"parcoords\":[{\"type\":\"parcoords\",\"line\":{\"colorbar\":{\"outlinewidth\":0,\"ticks\":\"\"}}}],\"scatterpolargl\":[{\"type\":\"scatterpolargl\",\"marker\":{\"colorbar\":{\"outlinewidth\":0,\"ticks\":\"\"}}}],\"bar\":[{\"error_x\":{\"color\":\"#2a3f5f\"},\"error_y\":{\"color\":\"#2a3f5f\"},\"marker\":{\"line\":{\"color\":\"#E5ECF6\",\"width\":0.5},\"pattern\":{\"fillmode\":\"overlay\",\"size\":10,\"solidity\":0.2}},\"type\":\"bar\"}],\"scattergeo\":[{\"type\":\"scattergeo\",\"marker\":{\"colorbar\":{\"outlinewidth\":0,\"ticks\":\"\"}}}],\"scatterpolar\":[{\"type\":\"scatterpolar\",\"marker\":{\"colorbar\":{\"outlinewidth\":0,\"ticks\":\"\"}}}],\"histogram\":[{\"marker\":{\"pattern\":{\"fillmode\":\"overlay\",\"size\":10,\"solidity\":0.2}},\"type\":\"histogram\"}],\"scattergl\":[{\"type\":\"scattergl\",\"marker\":{\"colorbar\":{\"outlinewidth\":0,\"ticks\":\"\"}}}],\"scatter3d\":[{\"type\":\"scatter3d\",\"line\":{\"colorbar\":{\"outlinewidth\":0,\"ticks\":\"\"}},\"marker\":{\"colorbar\":{\"outlinewidth\":0,\"ticks\":\"\"}}}],\"scattermapbox\":[{\"type\":\"scattermapbox\",\"marker\":{\"colorbar\":{\"outlinewidth\":0,\"ticks\":\"\"}}}],\"scatterternary\":[{\"type\":\"scatterternary\",\"marker\":{\"colorbar\":{\"outlinewidth\":0,\"ticks\":\"\"}}}],\"scattercarpet\":[{\"type\":\"scattercarpet\",\"marker\":{\"colorbar\":{\"outlinewidth\":0,\"ticks\":\"\"}}}],\"carpet\":[{\"aaxis\":{\"endlinecolor\":\"#2a3f5f\",\"gridcolor\":\"white\",\"linecolor\":\"white\",\"minorgridcolor\":\"white\",\"startlinecolor\":\"#2a3f5f\"},\"baxis\":{\"endlinecolor\":\"#2a3f5f\",\"gridcolor\":\"white\",\"linecolor\":\"white\",\"minorgridcolor\":\"white\",\"startlinecolor\":\"#2a3f5f\"},\"type\":\"carpet\"}],\"table\":[{\"cells\":{\"fill\":{\"color\":\"#EBF0F8\"},\"line\":{\"color\":\"white\"}},\"header\":{\"fill\":{\"color\":\"#C8D4E3\"},\"line\":{\"color\":\"white\"}},\"type\":\"table\"}],\"barpolar\":[{\"marker\":{\"line\":{\"color\":\"#E5ECF6\",\"width\":0.5},\"pattern\":{\"fillmode\":\"overlay\",\"size\":10,\"solidity\":0.2}},\"type\":\"barpolar\"}],\"pie\":[{\"automargin\":true,\"type\":\"pie\"}]},\"layout\":{\"autotypenumbers\":\"strict\",\"colorway\":[\"#636efa\",\"#EF553B\",\"#00cc96\",\"#ab63fa\",\"#FFA15A\",\"#19d3f3\",\"#FF6692\",\"#B6E880\",\"#FF97FF\",\"#FECB52\"],\"font\":{\"color\":\"#2a3f5f\"},\"hovermode\":\"closest\",\"hoverlabel\":{\"align\":\"left\"},\"paper_bgcolor\":\"white\",\"plot_bgcolor\":\"#E5ECF6\",\"polar\":{\"bgcolor\":\"#E5ECF6\",\"angularaxis\":{\"gridcolor\":\"white\",\"linecolor\":\"white\",\"ticks\":\"\"},\"radialaxis\":{\"gridcolor\":\"white\",\"linecolor\":\"white\",\"ticks\":\"\"}},\"ternary\":{\"bgcolor\":\"#E5ECF6\",\"aaxis\":{\"gridcolor\":\"white\",\"linecolor\":\"white\",\"ticks\":\"\"},\"baxis\":{\"gridcolor\":\"white\",\"linecolor\":\"white\",\"ticks\":\"\"},\"caxis\":{\"gridcolor\":\"white\",\"linecolor\":\"white\",\"ticks\":\"\"}},\"coloraxis\":{\"colorbar\":{\"outlinewidth\":0,\"ticks\":\"\"}},\"colorscale\":{\"sequential\":[[0.0,\"#0d0887\"],[0.1111111111111111,\"#46039f\"],[0.2222222222222222,\"#7201a8\"],[0.3333333333333333,\"#9c179e\"],[0.4444444444444444,\"#bd3786\"],[0.5555555555555556,\"#d8576b\"],[0.6666666666666666,\"#ed7953\"],[0.7777777777777778,\"#fb9f3a\"],[0.8888888888888888,\"#fdca26\"],[1.0,\"#f0f921\"]],\"sequentialminus\":[[0.0,\"#0d0887\"],[0.1111111111111111,\"#46039f\"],[0.2222222222222222,\"#7201a8\"],[0.3333333333333333,\"#9c179e\"],[0.4444444444444444,\"#bd3786\"],[0.5555555555555556,\"#d8576b\"],[0.6666666666666666,\"#ed7953\"],[0.7777777777777778,\"#fb9f3a\"],[0.8888888888888888,\"#fdca26\"],[1.0,\"#f0f921\"]],\"diverging\":[[0,\"#8e0152\"],[0.1,\"#c51b7d\"],[0.2,\"#de77ae\"],[0.3,\"#f1b6da\"],[0.4,\"#fde0ef\"],[0.5,\"#f7f7f7\"],[0.6,\"#e6f5d0\"],[0.7,\"#b8e186\"],[0.8,\"#7fbc41\"],[0.9,\"#4d9221\"],[1,\"#276419\"]]},\"xaxis\":{\"gridcolor\":\"white\",\"linecolor\":\"white\",\"ticks\":\"\",\"title\":{\"standoff\":15},\"zerolinecolor\":\"white\",\"automargin\":true,\"zerolinewidth\":2},\"yaxis\":{\"gridcolor\":\"white\",\"linecolor\":\"white\",\"ticks\":\"\",\"title\":{\"standoff\":15},\"zerolinecolor\":\"white\",\"automargin\":true,\"zerolinewidth\":2},\"scene\":{\"xaxis\":{\"backgroundcolor\":\"#E5ECF6\",\"gridcolor\":\"white\",\"linecolor\":\"white\",\"showbackground\":true,\"ticks\":\"\",\"zerolinecolor\":\"white\",\"gridwidth\":2},\"yaxis\":{\"backgroundcolor\":\"#E5ECF6\",\"gridcolor\":\"white\",\"linecolor\":\"white\",\"showbackground\":true,\"ticks\":\"\",\"zerolinecolor\":\"white\",\"gridwidth\":2},\"zaxis\":{\"backgroundcolor\":\"#E5ECF6\",\"gridcolor\":\"white\",\"linecolor\":\"white\",\"showbackground\":true,\"ticks\":\"\",\"zerolinecolor\":\"white\",\"gridwidth\":2}},\"shapedefaults\":{\"line\":{\"color\":\"#2a3f5f\"}},\"annotationdefaults\":{\"arrowcolor\":\"#2a3f5f\",\"arrowhead\":0,\"arrowwidth\":1},\"geo\":{\"bgcolor\":\"white\",\"landcolor\":\"#E5ECF6\",\"subunitcolor\":\"white\",\"showland\":true,\"showlakes\":true,\"lakecolor\":\"white\"},\"title\":{\"x\":0.05},\"mapbox\":{\"style\":\"light\"}}},\"xaxis\":{\"anchor\":\"y\",\"domain\":[0.0,1.0],\"title\":{\"text\":\"Actual Price\"}},\"yaxis\":{\"anchor\":\"x\",\"domain\":[0.0,1.0],\"title\":{\"text\":\"Predicted Price\"}},\"legend\":{\"tracegroupgap\":0},\"title\":{\"text\":\"XGBRegressor model Predictions\"}},                        {\"responsive\": true}                    ).then(function(){\n",
       "                            \n",
       "var gd = document.getElementById('da50db0f-d028-4c95-9c2d-ca1a88fa2a1e');\n",
       "var x = new MutationObserver(function (mutations, observer) {{\n",
       "        var display = window.getComputedStyle(gd).display;\n",
       "        if (!display || display === 'none') {{\n",
       "            console.log([gd, 'removed!']);\n",
       "            Plotly.purge(gd);\n",
       "            observer.disconnect();\n",
       "        }}\n",
       "}});\n",
       "\n",
       "// Listen for the removal of the full notebook cells\n",
       "var notebookContainer = gd.closest('#notebook-container');\n",
       "if (notebookContainer) {{\n",
       "    x.observe(notebookContainer, {childList: true});\n",
       "}}\n",
       "\n",
       "// Listen for the clearing of the current output cell\n",
       "var outputEl = gd.closest('.output');\n",
       "if (outputEl) {{\n",
       "    x.observe(outputEl, {childList: true});\n",
       "}}\n",
       "\n",
       "                        })                };                });            </script>        </div>"
      ]
     },
     "metadata": {},
     "output_type": "display_data"
    }
   ],
   "source": [
    "fig = px.scatter(x=y_test, y=xgb_prediction, labels={'x': 'Actual Price', 'y': 'Predicted Price'}, title='XGBRegressor model Predictions' )\n",
    "fig.show()"
   ]
  },
  {
   "cell_type": "markdown",
   "id": "3f76991a",
   "metadata": {
    "papermill": {
     "duration": 0.019301,
     "end_time": "2024-08-12T18:46:18.703982",
     "exception": false,
     "start_time": "2024-08-12T18:46:18.684681",
     "status": "completed"
    },
    "tags": []
   },
   "source": [
    "### 17. For the last Model we will be trying Linear Regression"
   ]
  },
  {
   "cell_type": "code",
   "execution_count": 24,
   "id": "a3bb7a95",
   "metadata": {
    "execution": {
     "iopub.execute_input": "2024-08-12T18:46:18.747964Z",
     "iopub.status.busy": "2024-08-12T18:46:18.746939Z",
     "iopub.status.idle": "2024-08-12T18:46:18.787845Z",
     "shell.execute_reply": "2024-08-12T18:46:18.786241Z"
    },
    "papermill": {
     "duration": 0.066899,
     "end_time": "2024-08-12T18:46:18.791125",
     "exception": false,
     "start_time": "2024-08-12T18:46:18.724226",
     "status": "completed"
    },
    "tags": []
   },
   "outputs": [
    {
     "name": "stdout",
     "output_type": "stream",
     "text": [
      "The Mse is: 2278.8212872603995\n",
      "\n",
      " The r2_score is: 0.8319677810131373\n"
     ]
    }
   ],
   "source": [
    "LR = LinearRegression()\n",
    "LR.fit(X_train, y_train)\n",
    "LR_prediction = LR.predict(X_test)\n",
    "\n",
    "#Checking the metrics\n",
    "LR_mae = mean_absolute_error(y_test, LR_prediction)\n",
    "print(f\"The Mse is: {LR_mae}\")\n",
    "\n",
    "LR_r2 = r2_score(y_test, LR_prediction)\n",
    "print(f\"\\n The r2_score is: {LR_r2}\")"
   ]
  },
  {
   "cell_type": "code",
   "execution_count": 25,
   "id": "af06fddc",
   "metadata": {
    "execution": {
     "iopub.execute_input": "2024-08-12T18:46:18.832011Z",
     "iopub.status.busy": "2024-08-12T18:46:18.831470Z",
     "iopub.status.idle": "2024-08-12T18:46:18.905241Z",
     "shell.execute_reply": "2024-08-12T18:46:18.903931Z"
    },
    "papermill": {
     "duration": 0.097053,
     "end_time": "2024-08-12T18:46:18.907952",
     "exception": false,
     "start_time": "2024-08-12T18:46:18.810899",
     "status": "completed"
    },
    "tags": []
   },
   "outputs": [
    {
     "data": {
      "text/html": [
       "<div>                            <div id=\"2da5a726-9a9a-427f-976c-01abff2e66e7\" class=\"plotly-graph-div\" style=\"height:525px; width:100%;\"></div>            <script type=\"text/javascript\">                require([\"plotly\"], function(Plotly) {                    window.PLOTLYENV=window.PLOTLYENV || {};                                    if (document.getElementById(\"2da5a726-9a9a-427f-976c-01abff2e66e7\")) {                    Plotly.newPlot(                        \"2da5a726-9a9a-427f-976c-01abff2e66e7\",                        [{\"hovertemplate\":\"Actual Price=%{x}\\u003cbr\\u003ePredicted Price=%{y}\\u003cextra\\u003e\\u003c\\u002fextra\\u003e\",\"legendgroup\":\"\",\"marker\":{\"color\":\"#636efa\",\"symbol\":\"circle\"},\"mode\":\"markers\",\"name\":\"\",\"orientation\":\"v\",\"showlegend\":false,\"x\":[30760.0,17859.167,9549.0,11850.0,28248.0,7799.0,7788.0,9258.0,10198.0,7775.0,13295.0,8238.0,18280.0,9988.0,40960.0,6488.0,5151.0,12629.0,8189.0,9960.0,8495.0,13499.0,8249.0,6479.0,6692.0,41315.0,9639.0,13415.0,7999.0,12940.0,25552.0,6229.0,7898.0,21485.0,7689.0,28176.0,11259.0,10945.0,8916.5,14489.0,7463.0],\"xaxis\":\"x\",\"y\":[24981.3525005217,18639.388664179067,10119.960771233928,12436.188356406616,25292.83560743121,5591.852625240477,7988.163731315501,7152.733395433395,9712.589580554202,8822.922341208388,15343.5964349442,6737.441897738048,16320.831522369022,9957.506287657605,40864.92101187139,6499.920349039479,-1974.7343959314385,14744.194436276615,10332.132895196708,9846.759479209104,10927.42339842594,20016.562010128437,5929.053267586067,2431.4143013090143,7196.134479284643,24815.695465437,13646.174213125916,16468.495239802774,5782.44356805311,16387.212000627092,25309.118300589405,7111.30198544413,8533.809674394222,23798.052302168122,8103.103958336556,24227.22100083928,12378.211185515167,10014.09188623682,5784.416462789879,14697.229838047111,8161.705277511042],\"yaxis\":\"y\",\"type\":\"scatter\"}],                        {\"template\":{\"data\":{\"histogram2dcontour\":[{\"type\":\"histogram2dcontour\",\"colorbar\":{\"outlinewidth\":0,\"ticks\":\"\"},\"colorscale\":[[0.0,\"#0d0887\"],[0.1111111111111111,\"#46039f\"],[0.2222222222222222,\"#7201a8\"],[0.3333333333333333,\"#9c179e\"],[0.4444444444444444,\"#bd3786\"],[0.5555555555555556,\"#d8576b\"],[0.6666666666666666,\"#ed7953\"],[0.7777777777777778,\"#fb9f3a\"],[0.8888888888888888,\"#fdca26\"],[1.0,\"#f0f921\"]]}],\"choropleth\":[{\"type\":\"choropleth\",\"colorbar\":{\"outlinewidth\":0,\"ticks\":\"\"}}],\"histogram2d\":[{\"type\":\"histogram2d\",\"colorbar\":{\"outlinewidth\":0,\"ticks\":\"\"},\"colorscale\":[[0.0,\"#0d0887\"],[0.1111111111111111,\"#46039f\"],[0.2222222222222222,\"#7201a8\"],[0.3333333333333333,\"#9c179e\"],[0.4444444444444444,\"#bd3786\"],[0.5555555555555556,\"#d8576b\"],[0.6666666666666666,\"#ed7953\"],[0.7777777777777778,\"#fb9f3a\"],[0.8888888888888888,\"#fdca26\"],[1.0,\"#f0f921\"]]}],\"heatmap\":[{\"type\":\"heatmap\",\"colorbar\":{\"outlinewidth\":0,\"ticks\":\"\"},\"colorscale\":[[0.0,\"#0d0887\"],[0.1111111111111111,\"#46039f\"],[0.2222222222222222,\"#7201a8\"],[0.3333333333333333,\"#9c179e\"],[0.4444444444444444,\"#bd3786\"],[0.5555555555555556,\"#d8576b\"],[0.6666666666666666,\"#ed7953\"],[0.7777777777777778,\"#fb9f3a\"],[0.8888888888888888,\"#fdca26\"],[1.0,\"#f0f921\"]]}],\"heatmapgl\":[{\"type\":\"heatmapgl\",\"colorbar\":{\"outlinewidth\":0,\"ticks\":\"\"},\"colorscale\":[[0.0,\"#0d0887\"],[0.1111111111111111,\"#46039f\"],[0.2222222222222222,\"#7201a8\"],[0.3333333333333333,\"#9c179e\"],[0.4444444444444444,\"#bd3786\"],[0.5555555555555556,\"#d8576b\"],[0.6666666666666666,\"#ed7953\"],[0.7777777777777778,\"#fb9f3a\"],[0.8888888888888888,\"#fdca26\"],[1.0,\"#f0f921\"]]}],\"contourcarpet\":[{\"type\":\"contourcarpet\",\"colorbar\":{\"outlinewidth\":0,\"ticks\":\"\"}}],\"contour\":[{\"type\":\"contour\",\"colorbar\":{\"outlinewidth\":0,\"ticks\":\"\"},\"colorscale\":[[0.0,\"#0d0887\"],[0.1111111111111111,\"#46039f\"],[0.2222222222222222,\"#7201a8\"],[0.3333333333333333,\"#9c179e\"],[0.4444444444444444,\"#bd3786\"],[0.5555555555555556,\"#d8576b\"],[0.6666666666666666,\"#ed7953\"],[0.7777777777777778,\"#fb9f3a\"],[0.8888888888888888,\"#fdca26\"],[1.0,\"#f0f921\"]]}],\"surface\":[{\"type\":\"surface\",\"colorbar\":{\"outlinewidth\":0,\"ticks\":\"\"},\"colorscale\":[[0.0,\"#0d0887\"],[0.1111111111111111,\"#46039f\"],[0.2222222222222222,\"#7201a8\"],[0.3333333333333333,\"#9c179e\"],[0.4444444444444444,\"#bd3786\"],[0.5555555555555556,\"#d8576b\"],[0.6666666666666666,\"#ed7953\"],[0.7777777777777778,\"#fb9f3a\"],[0.8888888888888888,\"#fdca26\"],[1.0,\"#f0f921\"]]}],\"mesh3d\":[{\"type\":\"mesh3d\",\"colorbar\":{\"outlinewidth\":0,\"ticks\":\"\"}}],\"scatter\":[{\"fillpattern\":{\"fillmode\":\"overlay\",\"size\":10,\"solidity\":0.2},\"type\":\"scatter\"}],\"parcoords\":[{\"type\":\"parcoords\",\"line\":{\"colorbar\":{\"outlinewidth\":0,\"ticks\":\"\"}}}],\"scatterpolargl\":[{\"type\":\"scatterpolargl\",\"marker\":{\"colorbar\":{\"outlinewidth\":0,\"ticks\":\"\"}}}],\"bar\":[{\"error_x\":{\"color\":\"#2a3f5f\"},\"error_y\":{\"color\":\"#2a3f5f\"},\"marker\":{\"line\":{\"color\":\"#E5ECF6\",\"width\":0.5},\"pattern\":{\"fillmode\":\"overlay\",\"size\":10,\"solidity\":0.2}},\"type\":\"bar\"}],\"scattergeo\":[{\"type\":\"scattergeo\",\"marker\":{\"colorbar\":{\"outlinewidth\":0,\"ticks\":\"\"}}}],\"scatterpolar\":[{\"type\":\"scatterpolar\",\"marker\":{\"colorbar\":{\"outlinewidth\":0,\"ticks\":\"\"}}}],\"histogram\":[{\"marker\":{\"pattern\":{\"fillmode\":\"overlay\",\"size\":10,\"solidity\":0.2}},\"type\":\"histogram\"}],\"scattergl\":[{\"type\":\"scattergl\",\"marker\":{\"colorbar\":{\"outlinewidth\":0,\"ticks\":\"\"}}}],\"scatter3d\":[{\"type\":\"scatter3d\",\"line\":{\"colorbar\":{\"outlinewidth\":0,\"ticks\":\"\"}},\"marker\":{\"colorbar\":{\"outlinewidth\":0,\"ticks\":\"\"}}}],\"scattermapbox\":[{\"type\":\"scattermapbox\",\"marker\":{\"colorbar\":{\"outlinewidth\":0,\"ticks\":\"\"}}}],\"scatterternary\":[{\"type\":\"scatterternary\",\"marker\":{\"colorbar\":{\"outlinewidth\":0,\"ticks\":\"\"}}}],\"scattercarpet\":[{\"type\":\"scattercarpet\",\"marker\":{\"colorbar\":{\"outlinewidth\":0,\"ticks\":\"\"}}}],\"carpet\":[{\"aaxis\":{\"endlinecolor\":\"#2a3f5f\",\"gridcolor\":\"white\",\"linecolor\":\"white\",\"minorgridcolor\":\"white\",\"startlinecolor\":\"#2a3f5f\"},\"baxis\":{\"endlinecolor\":\"#2a3f5f\",\"gridcolor\":\"white\",\"linecolor\":\"white\",\"minorgridcolor\":\"white\",\"startlinecolor\":\"#2a3f5f\"},\"type\":\"carpet\"}],\"table\":[{\"cells\":{\"fill\":{\"color\":\"#EBF0F8\"},\"line\":{\"color\":\"white\"}},\"header\":{\"fill\":{\"color\":\"#C8D4E3\"},\"line\":{\"color\":\"white\"}},\"type\":\"table\"}],\"barpolar\":[{\"marker\":{\"line\":{\"color\":\"#E5ECF6\",\"width\":0.5},\"pattern\":{\"fillmode\":\"overlay\",\"size\":10,\"solidity\":0.2}},\"type\":\"barpolar\"}],\"pie\":[{\"automargin\":true,\"type\":\"pie\"}]},\"layout\":{\"autotypenumbers\":\"strict\",\"colorway\":[\"#636efa\",\"#EF553B\",\"#00cc96\",\"#ab63fa\",\"#FFA15A\",\"#19d3f3\",\"#FF6692\",\"#B6E880\",\"#FF97FF\",\"#FECB52\"],\"font\":{\"color\":\"#2a3f5f\"},\"hovermode\":\"closest\",\"hoverlabel\":{\"align\":\"left\"},\"paper_bgcolor\":\"white\",\"plot_bgcolor\":\"#E5ECF6\",\"polar\":{\"bgcolor\":\"#E5ECF6\",\"angularaxis\":{\"gridcolor\":\"white\",\"linecolor\":\"white\",\"ticks\":\"\"},\"radialaxis\":{\"gridcolor\":\"white\",\"linecolor\":\"white\",\"ticks\":\"\"}},\"ternary\":{\"bgcolor\":\"#E5ECF6\",\"aaxis\":{\"gridcolor\":\"white\",\"linecolor\":\"white\",\"ticks\":\"\"},\"baxis\":{\"gridcolor\":\"white\",\"linecolor\":\"white\",\"ticks\":\"\"},\"caxis\":{\"gridcolor\":\"white\",\"linecolor\":\"white\",\"ticks\":\"\"}},\"coloraxis\":{\"colorbar\":{\"outlinewidth\":0,\"ticks\":\"\"}},\"colorscale\":{\"sequential\":[[0.0,\"#0d0887\"],[0.1111111111111111,\"#46039f\"],[0.2222222222222222,\"#7201a8\"],[0.3333333333333333,\"#9c179e\"],[0.4444444444444444,\"#bd3786\"],[0.5555555555555556,\"#d8576b\"],[0.6666666666666666,\"#ed7953\"],[0.7777777777777778,\"#fb9f3a\"],[0.8888888888888888,\"#fdca26\"],[1.0,\"#f0f921\"]],\"sequentialminus\":[[0.0,\"#0d0887\"],[0.1111111111111111,\"#46039f\"],[0.2222222222222222,\"#7201a8\"],[0.3333333333333333,\"#9c179e\"],[0.4444444444444444,\"#bd3786\"],[0.5555555555555556,\"#d8576b\"],[0.6666666666666666,\"#ed7953\"],[0.7777777777777778,\"#fb9f3a\"],[0.8888888888888888,\"#fdca26\"],[1.0,\"#f0f921\"]],\"diverging\":[[0,\"#8e0152\"],[0.1,\"#c51b7d\"],[0.2,\"#de77ae\"],[0.3,\"#f1b6da\"],[0.4,\"#fde0ef\"],[0.5,\"#f7f7f7\"],[0.6,\"#e6f5d0\"],[0.7,\"#b8e186\"],[0.8,\"#7fbc41\"],[0.9,\"#4d9221\"],[1,\"#276419\"]]},\"xaxis\":{\"gridcolor\":\"white\",\"linecolor\":\"white\",\"ticks\":\"\",\"title\":{\"standoff\":15},\"zerolinecolor\":\"white\",\"automargin\":true,\"zerolinewidth\":2},\"yaxis\":{\"gridcolor\":\"white\",\"linecolor\":\"white\",\"ticks\":\"\",\"title\":{\"standoff\":15},\"zerolinecolor\":\"white\",\"automargin\":true,\"zerolinewidth\":2},\"scene\":{\"xaxis\":{\"backgroundcolor\":\"#E5ECF6\",\"gridcolor\":\"white\",\"linecolor\":\"white\",\"showbackground\":true,\"ticks\":\"\",\"zerolinecolor\":\"white\",\"gridwidth\":2},\"yaxis\":{\"backgroundcolor\":\"#E5ECF6\",\"gridcolor\":\"white\",\"linecolor\":\"white\",\"showbackground\":true,\"ticks\":\"\",\"zerolinecolor\":\"white\",\"gridwidth\":2},\"zaxis\":{\"backgroundcolor\":\"#E5ECF6\",\"gridcolor\":\"white\",\"linecolor\":\"white\",\"showbackground\":true,\"ticks\":\"\",\"zerolinecolor\":\"white\",\"gridwidth\":2}},\"shapedefaults\":{\"line\":{\"color\":\"#2a3f5f\"}},\"annotationdefaults\":{\"arrowcolor\":\"#2a3f5f\",\"arrowhead\":0,\"arrowwidth\":1},\"geo\":{\"bgcolor\":\"white\",\"landcolor\":\"#E5ECF6\",\"subunitcolor\":\"white\",\"showland\":true,\"showlakes\":true,\"lakecolor\":\"white\"},\"title\":{\"x\":0.05},\"mapbox\":{\"style\":\"light\"}}},\"xaxis\":{\"anchor\":\"y\",\"domain\":[0.0,1.0],\"title\":{\"text\":\"Actual Price\"}},\"yaxis\":{\"anchor\":\"x\",\"domain\":[0.0,1.0],\"title\":{\"text\":\"Predicted Price\"}},\"legend\":{\"tracegroupgap\":0},\"title\":{\"text\":\"Linear Regression model Predictions\"}},                        {\"responsive\": true}                    ).then(function(){\n",
       "                            \n",
       "var gd = document.getElementById('2da5a726-9a9a-427f-976c-01abff2e66e7');\n",
       "var x = new MutationObserver(function (mutations, observer) {{\n",
       "        var display = window.getComputedStyle(gd).display;\n",
       "        if (!display || display === 'none') {{\n",
       "            console.log([gd, 'removed!']);\n",
       "            Plotly.purge(gd);\n",
       "            observer.disconnect();\n",
       "        }}\n",
       "}});\n",
       "\n",
       "// Listen for the removal of the full notebook cells\n",
       "var notebookContainer = gd.closest('#notebook-container');\n",
       "if (notebookContainer) {{\n",
       "    x.observe(notebookContainer, {childList: true});\n",
       "}}\n",
       "\n",
       "// Listen for the clearing of the current output cell\n",
       "var outputEl = gd.closest('.output');\n",
       "if (outputEl) {{\n",
       "    x.observe(outputEl, {childList: true});\n",
       "}}\n",
       "\n",
       "                        })                };                });            </script>        </div>"
      ]
     },
     "metadata": {},
     "output_type": "display_data"
    }
   ],
   "source": [
    "fig = px.scatter(x=y_test, y=LR_prediction, labels={'x': 'Actual Price', 'y': 'Predicted Price'}, title='Linear Regression model Predictions' )\n",
    "fig.show()"
   ]
  },
  {
   "cell_type": "markdown",
   "id": "ec84cbc8",
   "metadata": {
    "papermill": {
     "duration": 0.01858,
     "end_time": "2024-08-12T18:46:18.946063",
     "exception": false,
     "start_time": "2024-08-12T18:46:18.927483",
     "status": "completed"
    },
    "tags": []
   },
   "source": [
    "### 18. Now we plot all models together for a better visualization"
   ]
  },
  {
   "cell_type": "code",
   "execution_count": 26,
   "id": "9d313b60",
   "metadata": {
    "execution": {
     "iopub.execute_input": "2024-08-12T18:46:18.986404Z",
     "iopub.status.busy": "2024-08-12T18:46:18.985883Z",
     "iopub.status.idle": "2024-08-12T18:46:19.112657Z",
     "shell.execute_reply": "2024-08-12T18:46:19.111329Z"
    },
    "papermill": {
     "duration": 0.151321,
     "end_time": "2024-08-12T18:46:19.116323",
     "exception": false,
     "start_time": "2024-08-12T18:46:18.965002",
     "status": "completed"
    },
    "tags": []
   },
   "outputs": [
    {
     "name": "stderr",
     "output_type": "stream",
     "text": [
      "/opt/conda/lib/python3.10/site-packages/plotly/express/_core.py:2065: FutureWarning:\n",
      "\n",
      "When grouping with a length-1 list-like, you will need to pass a length-1 tuple to get_group in a future version of pandas. Pass `(name,)` instead of `name` to silence this warning.\n",
      "\n"
     ]
    },
    {
     "data": {
      "text/html": [
       "<div>                            <div id=\"94136c77-1e64-4175-baf9-b40f1208e064\" class=\"plotly-graph-div\" style=\"height:525px; width:100%;\"></div>            <script type=\"text/javascript\">                require([\"plotly\"], function(Plotly) {                    window.PLOTLYENV=window.PLOTLYENV || {};                                    if (document.getElementById(\"94136c77-1e64-4175-baf9-b40f1208e064\")) {                    Plotly.newPlot(                        \"94136c77-1e64-4175-baf9-b40f1208e064\",                        [{\"hovertemplate\":\"Model=Linear Regression\\u003cbr\\u003eActual Price=%{x}\\u003cbr\\u003ePredicted Price=%{y}\\u003cextra\\u003e\\u003c\\u002fextra\\u003e\",\"legendgroup\":\"Linear Regression\",\"marker\":{\"color\":\"#636efa\",\"symbol\":\"circle\"},\"mode\":\"markers\",\"name\":\"Linear Regression\",\"orientation\":\"v\",\"showlegend\":true,\"x\":[30760.0,17859.167,9549.0,11850.0,28248.0,7799.0,7788.0,9258.0,10198.0,7775.0,13295.0,8238.0,18280.0,9988.0,40960.0,6488.0,5151.0,12629.0,8189.0,9960.0,8495.0,13499.0,8249.0,6479.0,6692.0,41315.0,9639.0,13415.0,7999.0,12940.0,25552.0,6229.0,7898.0,21485.0,7689.0,28176.0,11259.0,10945.0,8916.5,14489.0,7463.0],\"xaxis\":\"x\",\"y\":[24981.3525005217,18639.388664179067,10119.960771233928,12436.188356406616,25292.83560743121,5591.852625240477,7988.163731315501,7152.733395433395,9712.589580554202,8822.922341208388,15343.5964349442,6737.441897738048,16320.831522369022,9957.506287657605,40864.92101187139,6499.920349039479,-1974.7343959314385,14744.194436276615,10332.132895196708,9846.759479209104,10927.42339842594,20016.562010128437,5929.053267586067,2431.4143013090143,7196.134479284643,24815.695465437,13646.174213125916,16468.495239802774,5782.44356805311,16387.212000627092,25309.118300589405,7111.30198544413,8533.809674394222,23798.052302168122,8103.103958336556,24227.22100083928,12378.211185515167,10014.09188623682,5784.416462789879,14697.229838047111,8161.705277511042],\"yaxis\":\"y\",\"type\":\"scatter\"},{\"hovertemplate\":\"Model=Random Forest\\u003cbr\\u003eActual Price=%{x}\\u003cbr\\u003ePredicted Price=%{y}\\u003cextra\\u003e\\u003c\\u002fextra\\u003e\",\"legendgroup\":\"Random Forest\",\"marker\":{\"color\":\"#EF553B\",\"symbol\":\"circle\"},\"mode\":\"markers\",\"name\":\"Random Forest\",\"orientation\":\"v\",\"showlegend\":true,\"x\":[30760.0,17859.167,9549.0,11850.0,28248.0,7799.0,7788.0,9258.0,10198.0,7775.0,13295.0,8238.0,18280.0,9988.0,40960.0,6488.0,5151.0,12629.0,8189.0,9960.0,8495.0,13499.0,8249.0,6479.0,6692.0,41315.0,9639.0,13415.0,7999.0,12940.0,25552.0,6229.0,7898.0,21485.0,7689.0,28176.0,11259.0,10945.0,8916.5,14489.0,7463.0],\"xaxis\":\"x\",\"y\":[35892.255,18235.25,8985.13,13420.19,26970.22,6863.07,8044.44,8017.24,9727.52,8191.23,14281.17,7809.39,14209.115,11177.6,40273.525,6563.05,5788.65,13907.17,8455.281666666668,9250.75,10408.73,15332.66,6800.77,5843.17,7294.71,35917.885,9454.1,16604.7,7034.69,16413.53,27477.905,6496.23,7931.66,19195.63,8039.98,27163.95,10608.095,12512.475,7426.135,14547.72,8464.53],\"yaxis\":\"y\",\"type\":\"scatter\"},{\"hovertemplate\":\"Model=XGBRegressor\\u003cbr\\u003eActual Price=%{x}\\u003cbr\\u003ePredicted Price=%{y}\\u003cextra\\u003e\\u003c\\u002fextra\\u003e\",\"legendgroup\":\"XGBRegressor\",\"marker\":{\"color\":\"#00cc96\",\"symbol\":\"circle\"},\"mode\":\"markers\",\"name\":\"XGBRegressor\",\"orientation\":\"v\",\"showlegend\":true,\"x\":[30760.0,17859.167,9549.0,11850.0,28248.0,7799.0,7788.0,9258.0,10198.0,7775.0,13295.0,8238.0,18280.0,9988.0,40960.0,6488.0,5151.0,12629.0,8189.0,9960.0,8495.0,13499.0,8249.0,6479.0,6692.0,41315.0,9639.0,13415.0,7999.0,12940.0,25552.0,6229.0,7898.0,21485.0,7689.0,28176.0,11259.0,10945.0,8916.5,14489.0,7463.0],\"xaxis\":\"x\",\"y\":[36892.359375,17725.580078125,8933.8671875,13223.947265625,31366.904296875,6708.50048828125,7622.04931640625,7940.7958984375,9075.892578125,7979.53271484375,14654.845703125,8071.3447265625,13864.12109375,11278.0625,45297.953125,6522.77685546875,5283.6748046875,14221.2783203125,8466.7822265625,9218.765625,10261.66796875,13936.3095703125,7093.1962890625,5853.89599609375,7593.83984375,36826.453125,8467.1591796875,16219.41796875,7348.83984375,15978.0673828125,31754.73828125,6236.45068359375,7406.19677734375,19844.083984375,8006.0712890625,31201.396484375,11377.9423828125,11858.802734375,7978.2587890625,14863.826171875,7926.873046875],\"yaxis\":\"y\",\"type\":\"scatter\"},{\"hovertemplate\":\"Model=Decision Tree Regressor\\u003cbr\\u003eActual Price=%{x}\\u003cbr\\u003ePredicted Price=%{y}\\u003cextra\\u003e\\u003c\\u002fextra\\u003e\",\"legendgroup\":\"Decision Tree Regressor\",\"marker\":{\"color\":\"#ab63fa\",\"symbol\":\"circle\"},\"mode\":\"markers\",\"name\":\"Decision Tree Regressor\",\"orientation\":\"v\",\"showlegend\":true,\"x\":[30760.0,17859.167,9549.0,11850.0,28248.0,7799.0,7788.0,9258.0,10198.0,7775.0,13295.0,8238.0,18280.0,9988.0,40960.0,6488.0,5151.0,12629.0,8189.0,9960.0,8495.0,13499.0,8249.0,6479.0,6692.0,41315.0,9639.0,13415.0,7999.0,12940.0,25552.0,6229.0,7898.0,21485.0,7689.0,28176.0,11259.0,10945.0,8916.5,14489.0,7463.0],\"xaxis\":\"x\",\"y\":[36880.0,15998.0,8949.0,12170.0,33900.0,7349.0,7995.0,8358.0,8921.0,7995.0,12170.0,8058.0,12170.0,11248.0,45400.0,6338.0,5399.0,12964.0,6989.0,9095.0,10245.0,14399.0,7349.0,5348.0,7609.0,36880.0,8449.0,16515.0,7349.0,15985.0,33900.0,6229.0,6989.0,19045.0,7957.0,33900.0,15250.0,11845.0,8916.5,14869.0,8949.0],\"yaxis\":\"y\",\"type\":\"scatter\"}],                        {\"template\":{\"data\":{\"histogram2dcontour\":[{\"type\":\"histogram2dcontour\",\"colorbar\":{\"outlinewidth\":0,\"ticks\":\"\"},\"colorscale\":[[0.0,\"#0d0887\"],[0.1111111111111111,\"#46039f\"],[0.2222222222222222,\"#7201a8\"],[0.3333333333333333,\"#9c179e\"],[0.4444444444444444,\"#bd3786\"],[0.5555555555555556,\"#d8576b\"],[0.6666666666666666,\"#ed7953\"],[0.7777777777777778,\"#fb9f3a\"],[0.8888888888888888,\"#fdca26\"],[1.0,\"#f0f921\"]]}],\"choropleth\":[{\"type\":\"choropleth\",\"colorbar\":{\"outlinewidth\":0,\"ticks\":\"\"}}],\"histogram2d\":[{\"type\":\"histogram2d\",\"colorbar\":{\"outlinewidth\":0,\"ticks\":\"\"},\"colorscale\":[[0.0,\"#0d0887\"],[0.1111111111111111,\"#46039f\"],[0.2222222222222222,\"#7201a8\"],[0.3333333333333333,\"#9c179e\"],[0.4444444444444444,\"#bd3786\"],[0.5555555555555556,\"#d8576b\"],[0.6666666666666666,\"#ed7953\"],[0.7777777777777778,\"#fb9f3a\"],[0.8888888888888888,\"#fdca26\"],[1.0,\"#f0f921\"]]}],\"heatmap\":[{\"type\":\"heatmap\",\"colorbar\":{\"outlinewidth\":0,\"ticks\":\"\"},\"colorscale\":[[0.0,\"#0d0887\"],[0.1111111111111111,\"#46039f\"],[0.2222222222222222,\"#7201a8\"],[0.3333333333333333,\"#9c179e\"],[0.4444444444444444,\"#bd3786\"],[0.5555555555555556,\"#d8576b\"],[0.6666666666666666,\"#ed7953\"],[0.7777777777777778,\"#fb9f3a\"],[0.8888888888888888,\"#fdca26\"],[1.0,\"#f0f921\"]]}],\"heatmapgl\":[{\"type\":\"heatmapgl\",\"colorbar\":{\"outlinewidth\":0,\"ticks\":\"\"},\"colorscale\":[[0.0,\"#0d0887\"],[0.1111111111111111,\"#46039f\"],[0.2222222222222222,\"#7201a8\"],[0.3333333333333333,\"#9c179e\"],[0.4444444444444444,\"#bd3786\"],[0.5555555555555556,\"#d8576b\"],[0.6666666666666666,\"#ed7953\"],[0.7777777777777778,\"#fb9f3a\"],[0.8888888888888888,\"#fdca26\"],[1.0,\"#f0f921\"]]}],\"contourcarpet\":[{\"type\":\"contourcarpet\",\"colorbar\":{\"outlinewidth\":0,\"ticks\":\"\"}}],\"contour\":[{\"type\":\"contour\",\"colorbar\":{\"outlinewidth\":0,\"ticks\":\"\"},\"colorscale\":[[0.0,\"#0d0887\"],[0.1111111111111111,\"#46039f\"],[0.2222222222222222,\"#7201a8\"],[0.3333333333333333,\"#9c179e\"],[0.4444444444444444,\"#bd3786\"],[0.5555555555555556,\"#d8576b\"],[0.6666666666666666,\"#ed7953\"],[0.7777777777777778,\"#fb9f3a\"],[0.8888888888888888,\"#fdca26\"],[1.0,\"#f0f921\"]]}],\"surface\":[{\"type\":\"surface\",\"colorbar\":{\"outlinewidth\":0,\"ticks\":\"\"},\"colorscale\":[[0.0,\"#0d0887\"],[0.1111111111111111,\"#46039f\"],[0.2222222222222222,\"#7201a8\"],[0.3333333333333333,\"#9c179e\"],[0.4444444444444444,\"#bd3786\"],[0.5555555555555556,\"#d8576b\"],[0.6666666666666666,\"#ed7953\"],[0.7777777777777778,\"#fb9f3a\"],[0.8888888888888888,\"#fdca26\"],[1.0,\"#f0f921\"]]}],\"mesh3d\":[{\"type\":\"mesh3d\",\"colorbar\":{\"outlinewidth\":0,\"ticks\":\"\"}}],\"scatter\":[{\"fillpattern\":{\"fillmode\":\"overlay\",\"size\":10,\"solidity\":0.2},\"type\":\"scatter\"}],\"parcoords\":[{\"type\":\"parcoords\",\"line\":{\"colorbar\":{\"outlinewidth\":0,\"ticks\":\"\"}}}],\"scatterpolargl\":[{\"type\":\"scatterpolargl\",\"marker\":{\"colorbar\":{\"outlinewidth\":0,\"ticks\":\"\"}}}],\"bar\":[{\"error_x\":{\"color\":\"#2a3f5f\"},\"error_y\":{\"color\":\"#2a3f5f\"},\"marker\":{\"line\":{\"color\":\"#E5ECF6\",\"width\":0.5},\"pattern\":{\"fillmode\":\"overlay\",\"size\":10,\"solidity\":0.2}},\"type\":\"bar\"}],\"scattergeo\":[{\"type\":\"scattergeo\",\"marker\":{\"colorbar\":{\"outlinewidth\":0,\"ticks\":\"\"}}}],\"scatterpolar\":[{\"type\":\"scatterpolar\",\"marker\":{\"colorbar\":{\"outlinewidth\":0,\"ticks\":\"\"}}}],\"histogram\":[{\"marker\":{\"pattern\":{\"fillmode\":\"overlay\",\"size\":10,\"solidity\":0.2}},\"type\":\"histogram\"}],\"scattergl\":[{\"type\":\"scattergl\",\"marker\":{\"colorbar\":{\"outlinewidth\":0,\"ticks\":\"\"}}}],\"scatter3d\":[{\"type\":\"scatter3d\",\"line\":{\"colorbar\":{\"outlinewidth\":0,\"ticks\":\"\"}},\"marker\":{\"colorbar\":{\"outlinewidth\":0,\"ticks\":\"\"}}}],\"scattermapbox\":[{\"type\":\"scattermapbox\",\"marker\":{\"colorbar\":{\"outlinewidth\":0,\"ticks\":\"\"}}}],\"scatterternary\":[{\"type\":\"scatterternary\",\"marker\":{\"colorbar\":{\"outlinewidth\":0,\"ticks\":\"\"}}}],\"scattercarpet\":[{\"type\":\"scattercarpet\",\"marker\":{\"colorbar\":{\"outlinewidth\":0,\"ticks\":\"\"}}}],\"carpet\":[{\"aaxis\":{\"endlinecolor\":\"#2a3f5f\",\"gridcolor\":\"white\",\"linecolor\":\"white\",\"minorgridcolor\":\"white\",\"startlinecolor\":\"#2a3f5f\"},\"baxis\":{\"endlinecolor\":\"#2a3f5f\",\"gridcolor\":\"white\",\"linecolor\":\"white\",\"minorgridcolor\":\"white\",\"startlinecolor\":\"#2a3f5f\"},\"type\":\"carpet\"}],\"table\":[{\"cells\":{\"fill\":{\"color\":\"#EBF0F8\"},\"line\":{\"color\":\"white\"}},\"header\":{\"fill\":{\"color\":\"#C8D4E3\"},\"line\":{\"color\":\"white\"}},\"type\":\"table\"}],\"barpolar\":[{\"marker\":{\"line\":{\"color\":\"#E5ECF6\",\"width\":0.5},\"pattern\":{\"fillmode\":\"overlay\",\"size\":10,\"solidity\":0.2}},\"type\":\"barpolar\"}],\"pie\":[{\"automargin\":true,\"type\":\"pie\"}]},\"layout\":{\"autotypenumbers\":\"strict\",\"colorway\":[\"#636efa\",\"#EF553B\",\"#00cc96\",\"#ab63fa\",\"#FFA15A\",\"#19d3f3\",\"#FF6692\",\"#B6E880\",\"#FF97FF\",\"#FECB52\"],\"font\":{\"color\":\"#2a3f5f\"},\"hovermode\":\"closest\",\"hoverlabel\":{\"align\":\"left\"},\"paper_bgcolor\":\"white\",\"plot_bgcolor\":\"#E5ECF6\",\"polar\":{\"bgcolor\":\"#E5ECF6\",\"angularaxis\":{\"gridcolor\":\"white\",\"linecolor\":\"white\",\"ticks\":\"\"},\"radialaxis\":{\"gridcolor\":\"white\",\"linecolor\":\"white\",\"ticks\":\"\"}},\"ternary\":{\"bgcolor\":\"#E5ECF6\",\"aaxis\":{\"gridcolor\":\"white\",\"linecolor\":\"white\",\"ticks\":\"\"},\"baxis\":{\"gridcolor\":\"white\",\"linecolor\":\"white\",\"ticks\":\"\"},\"caxis\":{\"gridcolor\":\"white\",\"linecolor\":\"white\",\"ticks\":\"\"}},\"coloraxis\":{\"colorbar\":{\"outlinewidth\":0,\"ticks\":\"\"}},\"colorscale\":{\"sequential\":[[0.0,\"#0d0887\"],[0.1111111111111111,\"#46039f\"],[0.2222222222222222,\"#7201a8\"],[0.3333333333333333,\"#9c179e\"],[0.4444444444444444,\"#bd3786\"],[0.5555555555555556,\"#d8576b\"],[0.6666666666666666,\"#ed7953\"],[0.7777777777777778,\"#fb9f3a\"],[0.8888888888888888,\"#fdca26\"],[1.0,\"#f0f921\"]],\"sequentialminus\":[[0.0,\"#0d0887\"],[0.1111111111111111,\"#46039f\"],[0.2222222222222222,\"#7201a8\"],[0.3333333333333333,\"#9c179e\"],[0.4444444444444444,\"#bd3786\"],[0.5555555555555556,\"#d8576b\"],[0.6666666666666666,\"#ed7953\"],[0.7777777777777778,\"#fb9f3a\"],[0.8888888888888888,\"#fdca26\"],[1.0,\"#f0f921\"]],\"diverging\":[[0,\"#8e0152\"],[0.1,\"#c51b7d\"],[0.2,\"#de77ae\"],[0.3,\"#f1b6da\"],[0.4,\"#fde0ef\"],[0.5,\"#f7f7f7\"],[0.6,\"#e6f5d0\"],[0.7,\"#b8e186\"],[0.8,\"#7fbc41\"],[0.9,\"#4d9221\"],[1,\"#276419\"]]},\"xaxis\":{\"gridcolor\":\"white\",\"linecolor\":\"white\",\"ticks\":\"\",\"title\":{\"standoff\":15},\"zerolinecolor\":\"white\",\"automargin\":true,\"zerolinewidth\":2},\"yaxis\":{\"gridcolor\":\"white\",\"linecolor\":\"white\",\"ticks\":\"\",\"title\":{\"standoff\":15},\"zerolinecolor\":\"white\",\"automargin\":true,\"zerolinewidth\":2},\"scene\":{\"xaxis\":{\"backgroundcolor\":\"#E5ECF6\",\"gridcolor\":\"white\",\"linecolor\":\"white\",\"showbackground\":true,\"ticks\":\"\",\"zerolinecolor\":\"white\",\"gridwidth\":2},\"yaxis\":{\"backgroundcolor\":\"#E5ECF6\",\"gridcolor\":\"white\",\"linecolor\":\"white\",\"showbackground\":true,\"ticks\":\"\",\"zerolinecolor\":\"white\",\"gridwidth\":2},\"zaxis\":{\"backgroundcolor\":\"#E5ECF6\",\"gridcolor\":\"white\",\"linecolor\":\"white\",\"showbackground\":true,\"ticks\":\"\",\"zerolinecolor\":\"white\",\"gridwidth\":2}},\"shapedefaults\":{\"line\":{\"color\":\"#2a3f5f\"}},\"annotationdefaults\":{\"arrowcolor\":\"#2a3f5f\",\"arrowhead\":0,\"arrowwidth\":1},\"geo\":{\"bgcolor\":\"white\",\"landcolor\":\"#E5ECF6\",\"subunitcolor\":\"white\",\"showland\":true,\"showlakes\":true,\"lakecolor\":\"white\"},\"title\":{\"x\":0.05},\"mapbox\":{\"style\":\"light\"}}},\"xaxis\":{\"anchor\":\"y\",\"domain\":[0.0,1.0],\"title\":{\"text\":\"Actual Price\"}},\"yaxis\":{\"anchor\":\"x\",\"domain\":[0.0,1.0],\"title\":{\"text\":\"Predicted Price\"}},\"legend\":{\"title\":{\"text\":\"Model\"},\"tracegroupgap\":0},\"title\":{\"text\":\"Model Predictions Comparison\"}},                        {\"responsive\": true}                    ).then(function(){\n",
       "                            \n",
       "var gd = document.getElementById('94136c77-1e64-4175-baf9-b40f1208e064');\n",
       "var x = new MutationObserver(function (mutations, observer) {{\n",
       "        var display = window.getComputedStyle(gd).display;\n",
       "        if (!display || display === 'none') {{\n",
       "            console.log([gd, 'removed!']);\n",
       "            Plotly.purge(gd);\n",
       "            observer.disconnect();\n",
       "        }}\n",
       "}});\n",
       "\n",
       "// Listen for the removal of the full notebook cells\n",
       "var notebookContainer = gd.closest('#notebook-container');\n",
       "if (notebookContainer) {{\n",
       "    x.observe(notebookContainer, {childList: true});\n",
       "}}\n",
       "\n",
       "// Listen for the clearing of the current output cell\n",
       "var outputEl = gd.closest('.output');\n",
       "if (outputEl) {{\n",
       "    x.observe(outputEl, {childList: true});\n",
       "}}\n",
       "\n",
       "                        })                };                });            </script>        </div>"
      ]
     },
     "metadata": {},
     "output_type": "display_data"
    }
   ],
   "source": [
    "df = pd.DataFrame({\n",
    "    'Actual Price': y_test,\n",
    "    'Linear Regression': LR_prediction,\n",
    "    'Random Forest': rfr_prediction,   \n",
    "    'XGBRegressor': xgb_prediction,\n",
    "    'Decision Tree Regressor': dtr_prediction\n",
    "})\n",
    "\n",
    "\n",
    "# Transformando os dados para long format usando uma tupla de comprimento 1 para `id_vars`\n",
    "df_long = df.melt(id_vars=('Actual Price',), var_name='Model', value_name='Predicted Price')\n",
    "\n",
    "\n",
    "fig = px.scatter(df_long, x='Actual Price', y='Predicted Price', color='Model', \n",
    "                 labels={'x': 'Actual Price', 'y': 'Predicted Price'}, \n",
    "                 title='Model Predictions Comparison')\n",
    "fig.show()\n"
   ]
  }
 ],
 "metadata": {
  "kaggle": {
   "accelerator": "none",
   "dataSources": [
    {
     "datasetId": 383055,
     "sourceId": 741735,
     "sourceType": "datasetVersion"
    }
   ],
   "dockerImageVersionId": 30746,
   "isGpuEnabled": false,
   "isInternetEnabled": true,
   "language": "python",
   "sourceType": "notebook"
  },
  "kernelspec": {
   "display_name": "Python 3",
   "language": "python",
   "name": "python3"
  },
  "language_info": {
   "codemirror_mode": {
    "name": "ipython",
    "version": 3
   },
   "file_extension": ".py",
   "mimetype": "text/x-python",
   "name": "python",
   "nbconvert_exporter": "python",
   "pygments_lexer": "ipython3",
   "version": "3.10.13"
  },
  "papermill": {
   "default_parameters": {},
   "duration": 13.87981,
   "end_time": "2024-08-12T18:46:20.262267",
   "environment_variables": {},
   "exception": null,
   "input_path": "__notebook__.ipynb",
   "output_path": "__notebook__.ipynb",
   "parameters": {},
   "start_time": "2024-08-12T18:46:06.382457",
   "version": "2.5.0"
  }
 },
 "nbformat": 4,
 "nbformat_minor": 5
}
